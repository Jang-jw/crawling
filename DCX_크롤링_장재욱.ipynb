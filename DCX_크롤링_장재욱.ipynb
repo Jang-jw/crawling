{
 "cells": [
  {
   "cell_type": "markdown",
   "id": "710a0b82",
   "metadata": {},
   "source": [
    "# Question 1"
   ]
  },
  {
   "cell_type": "markdown",
   "id": "9ad22a3b",
   "metadata": {
    "ExecuteTime": {
     "end_time": "2023-07-20T01:12:03.923607Z",
     "start_time": "2023-07-20T01:12:03.909643Z"
    }
   },
   "source": [
    "문제1\n",
    "\n",
    "1. a. 로그수집\n",
    "2. f. 크롤링\n",
    "3. c. 오픈API\n",
    "4. h. 센서수집"
   ]
  },
  {
   "cell_type": "markdown",
   "id": "70bd75d1",
   "metadata": {},
   "source": [
    "문제2\n",
    "\n",
    "    크롤링의 개념은 웹상에 존재하는 무수한 데이터를 효과적으로 수집, 보관 할 수 있는 체계적인 방법입니다. \n",
    "    크롤링의 필요성은 책이나 논문으로 존재하는 데이터 외에 각종 정보(이미지, 가격, 등락, 비율등)을 효과적으로 수집, 보관할 수 있으며 데이터가 위치한 장소까지도 분류, 관리 할 수 있습니다. "
   ]
  },
  {
   "cell_type": "markdown",
   "id": "4349faa3",
   "metadata": {},
   "source": [
    "문제3 \n",
    "\n",
    "    beautifulSoup 모듈은 웹상에서 크롤링을 할 때 HTML 코드로 존재하는 웹 문서를 text 로 추출해낼 수 있는 효과적인 방법을 제공합니다. requests 모듈로 가져온 HTML 코드를 beautifulSoup 을 사용하여 'xlml' 형태로 변환 후 text 를 추출할 수 있습니다. "
   ]
  },
  {
   "cell_type": "markdown",
   "id": "ee71655b",
   "metadata": {},
   "source": [
    "문제4\n",
    "\n",
    "    1 과 2 의 차이점은 단수개이냐 복수개이냐의 차이점입니다. find_element 는 단수개의 데이터를 가져오고 find_elements 는 복수개의 데이터를 가져옵니다. "
   ]
  },
  {
   "cell_type": "markdown",
   "id": "2baf65a4",
   "metadata": {},
   "source": [
    "문제5\n",
    "\n",
    "    첫줄 : \"span#this_span\"\n",
    "    둘째줄 : text"
   ]
  },
  {
   "cell_type": "markdown",
   "id": "a979b217",
   "metadata": {},
   "source": [
    "# Question 2"
   ]
  },
  {
   "cell_type": "code",
   "execution_count": null,
   "id": "af5dac4d",
   "metadata": {},
   "outputs": [],
   "source": [
    "!pip install selenium"
   ]
  },
  {
   "cell_type": "code",
   "execution_count": 10,
   "id": "fc3d476f",
   "metadata": {
    "ExecuteTime": {
     "end_time": "2023-07-20T01:35:59.767188Z",
     "start_time": "2023-07-20T01:35:52.762535Z"
    },
    "scrolled": true
   },
   "outputs": [
    {
     "name": "stdout",
     "output_type": "stream",
     "text": [
      "Requirement already satisfied: selenium in c:\\users\\user\\anaconda3\\lib\\site-packages (4.10.0)\n",
      "Requirement already satisfied: urllib3[socks]<3,>=1.26 in c:\\users\\user\\anaconda3\\lib\\site-packages (from selenium) (1.26.11)\n",
      "Requirement already satisfied: trio-websocket~=0.9 in c:\\users\\user\\anaconda3\\lib\\site-packages (from selenium) (0.10.3)\n",
      "Requirement already satisfied: trio~=0.17 in c:\\users\\user\\anaconda3\\lib\\site-packages (from selenium) (0.22.2)\n",
      "Requirement already satisfied: certifi>=2021.10.8 in c:\\users\\user\\anaconda3\\lib\\site-packages (from selenium) (2022.9.14)\n",
      "Requirement already satisfied: sortedcontainers in c:\\users\\user\\anaconda3\\lib\\site-packages (from trio~=0.17->selenium) (2.4.0)\n",
      "Requirement already satisfied: sniffio in c:\\users\\user\\anaconda3\\lib\\site-packages (from trio~=0.17->selenium) (1.2.0)\n",
      "Requirement already satisfied: outcome in c:\\users\\user\\anaconda3\\lib\\site-packages (from trio~=0.17->selenium) (1.2.0)\n",
      "Requirement already satisfied: cffi>=1.14 in c:\\users\\user\\anaconda3\\lib\\site-packages (from trio~=0.17->selenium) (1.15.1)\n",
      "Requirement already satisfied: attrs>=20.1.0 in c:\\users\\user\\anaconda3\\lib\\site-packages (from trio~=0.17->selenium) (21.4.0)\n",
      "Requirement already satisfied: idna in c:\\users\\user\\anaconda3\\lib\\site-packages (from trio~=0.17->selenium) (3.3)\n",
      "Requirement already satisfied: exceptiongroup>=1.0.0rc9 in c:\\users\\user\\anaconda3\\lib\\site-packages (from trio~=0.17->selenium) (1.1.2)\n",
      "Requirement already satisfied: wsproto>=0.14 in c:\\users\\user\\anaconda3\\lib\\site-packages (from trio-websocket~=0.9->selenium) (1.2.0)\n",
      "Requirement already satisfied: PySocks!=1.5.7,<2.0,>=1.5.6 in c:\\users\\user\\anaconda3\\lib\\site-packages (from urllib3[socks]<3,>=1.26->selenium) (1.7.1)\n",
      "Requirement already satisfied: pycparser in c:\\users\\user\\anaconda3\\lib\\site-packages (from cffi>=1.14->trio~=0.17->selenium) (2.21)\n",
      "Requirement already satisfied: h11<1,>=0.9.0 in c:\\users\\user\\anaconda3\\lib\\site-packages (from wsproto>=0.14->trio-websocket~=0.9->selenium) (0.14.0)\n"
     ]
    }
   ],
   "source": [
    "from selenium import webdriver as wb\n",
    "from selenium.webdriver.common.keys import Keys\n",
    "from selenium.webdriver.common.by import By\n",
    "driver=wb.Chrome()\n",
    "driver.get(\"http://www.naver.com/\")\n",
    "search=driver.find_element(By.ID,\"query\")\n",
    "search.send_keys(\"크롤링\")\n",
    "search.send_keys(Keys.ENTER)"
   ]
  },
  {
   "cell_type": "markdown",
   "id": "a77b13af",
   "metadata": {
    "ExecuteTime": {
     "end_time": "2023-07-20T01:34:41.954212Z",
     "start_time": "2023-07-20T01:34:41.906980Z"
    }
   },
   "source": [
    "# Question 3"
   ]
  },
  {
   "cell_type": "code",
   "execution_count": 36,
   "id": "608a764d",
   "metadata": {
    "ExecuteTime": {
     "end_time": "2023-07-20T02:06:49.569741Z",
     "start_time": "2023-07-20T02:04:47.361027Z"
    }
   },
   "outputs": [
    {
     "data": {
      "text/html": [
       "<div>\n",
       "<style scoped>\n",
       "    .dataframe tbody tr th:only-of-type {\n",
       "        vertical-align: middle;\n",
       "    }\n",
       "\n",
       "    .dataframe tbody tr th {\n",
       "        vertical-align: top;\n",
       "    }\n",
       "\n",
       "    .dataframe thead th {\n",
       "        text-align: right;\n",
       "    }\n",
       "</style>\n",
       "<table border=\"1\" class=\"dataframe\">\n",
       "  <thead>\n",
       "    <tr style=\"text-align: right;\">\n",
       "      <th></th>\n",
       "      <th>상품명</th>\n",
       "      <th>가격</th>\n",
       "    </tr>\n",
       "    <tr>\n",
       "      <th>번호</th>\n",
       "      <th></th>\n",
       "      <th></th>\n",
       "    </tr>\n",
       "  </thead>\n",
       "  <tbody>\n",
       "    <tr>\n",
       "      <th>1</th>\n",
       "      <td>제스프리 골드키위 점보 2.6kg (17개 내외)(중복쿠폰할인)</td>\n",
       "      <td>23,500원</td>\n",
       "    </tr>\n",
       "    <tr>\n",
       "      <th>2</th>\n",
       "      <td>(KFC) 3만원권</td>\n",
       "      <td>25,800원</td>\n",
       "    </tr>\n",
       "    <tr>\n",
       "      <th>3</th>\n",
       "      <td>펩시콜라 제로 210ml x 60캔 (30캔 2박스)</td>\n",
       "      <td>33,600원</td>\n",
       "    </tr>\n",
       "    <tr>\n",
       "      <th>4</th>\n",
       "      <td>의성자두 후무사 자두 2kg 중대(개당 100g내외)// 냉장포장</td>\n",
       "      <td>14,600원</td>\n",
       "    </tr>\n",
       "    <tr>\n",
       "      <th>5</th>\n",
       "      <td>(클럽전용) 이마트24 1만원 금액권</td>\n",
       "      <td>10,000원</td>\n",
       "    </tr>\n",
       "    <tr>\n",
       "      <th>6</th>\n",
       "      <td>(KFC) 징거텐더콤보</td>\n",
       "      <td>6,500원</td>\n",
       "    </tr>\n",
       "    <tr>\n",
       "      <th>7</th>\n",
       "      <td>(신세계강남점) 네파키즈 23SS 듀얼 슈프림 트레이닝 세트 KJC5905</td>\n",
       "      <td>55,000원</td>\n",
       "    </tr>\n",
       "    <tr>\n",
       "      <th>8</th>\n",
       "      <td>북메카 여름방학특집 123 리더스 워크북 그래픽노블 균일가</td>\n",
       "      <td>27,900원</td>\n",
       "    </tr>\n",
       "    <tr>\n",
       "      <th>9</th>\n",
       "      <td>신라면120G x 20입 (박스)</td>\n",
       "      <td>17,900원</td>\n",
       "    </tr>\n",
       "    <tr>\n",
       "      <th>10</th>\n",
       "      <td>(특가) 소마셈 팩토 세트 선택구매</td>\n",
       "      <td>34,580원</td>\n",
       "    </tr>\n",
       "    <tr>\n",
       "      <th>11</th>\n",
       "      <td>쿠폰23440원) 1등급 농협 안심 한우 국거리 덩어리 or 불고기 500g+500...</td>\n",
       "      <td>27,900원</td>\n",
       "    </tr>\n",
       "    <tr>\n",
       "      <th>12</th>\n",
       "      <td>후디스 초유단백질 2개 +보틀1 (7/20 단하루 특가)</td>\n",
       "      <td>22,900원</td>\n",
       "    </tr>\n",
       "    <tr>\n",
       "      <th>13</th>\n",
       "      <td>신라면+튀김우동+새우탕+오짬뽕 6입4개(총24개)</td>\n",
       "      <td>19,900원</td>\n",
       "    </tr>\n",
       "    <tr>\n",
       "      <th>14</th>\n",
       "      <td>시매쓰 영재사고력수학 1031(2023개정판) / 과학 1031 단계별 선택구매</td>\n",
       "      <td>59,720원</td>\n",
       "    </tr>\n",
       "    <tr>\n",
       "      <th>15</th>\n",
       "      <td>JEEP(지프) 등산모자 CA 0352 남성.여성공용 벙거지 낚시 버킷햇 남자 여자 여름</td>\n",
       "      <td>18,000원</td>\n",
       "    </tr>\n",
       "    <tr>\n",
       "      <th>16</th>\n",
       "      <td>10%쿠폰 (1+1) 남녀공용 스티치 5부 트레이닝 팬츠</td>\n",
       "      <td>9,900원</td>\n",
       "    </tr>\n",
       "    <tr>\n",
       "      <th>17</th>\n",
       "      <td>롯데 의성마늘 프랑크 70gx20개 (선착순 프랑크3개추가증정)유통기한23년7월31일</td>\n",
       "      <td>17,900원</td>\n",
       "    </tr>\n",
       "    <tr>\n",
       "      <th>18</th>\n",
       "      <td>새콤달콤 경북 아오리 사과 2kg 9-11과 (중과)</td>\n",
       "      <td>12,900원</td>\n",
       "    </tr>\n",
       "    <tr>\n",
       "      <th>19</th>\n",
       "      <td>제주농협 귤로장생 하우스감귤 2.5kg 로얄과(2S-M)</td>\n",
       "      <td>24,500원</td>\n",
       "    </tr>\n",
       "    <tr>\n",
       "      <th>20</th>\n",
       "      <td>스테비아토마토 샤인달콤마토 500gX4팩 달콤한 방울토마토 신선한 제철과일</td>\n",
       "      <td>19,500원</td>\n",
       "    </tr>\n",
       "  </tbody>\n",
       "</table>\n",
       "</div>"
      ],
      "text/plain": [
       "                                                  상품명       가격\n",
       "번호                                                            \n",
       "1                 제스프리 골드키위 점보 2.6kg (17개 내외)(중복쿠폰할인)  23,500원\n",
       "2                                          (KFC) 3만원권  25,800원\n",
       "3                       펩시콜라 제로 210ml x 60캔 (30캔 2박스)  33,600원\n",
       "4                의성자두 후무사 자두 2kg 중대(개당 100g내외)// 냉장포장  14,600원\n",
       "5                                (클럽전용) 이마트24 1만원 금액권  10,000원\n",
       "6                                        (KFC) 징거텐더콤보   6,500원\n",
       "7           (신세계강남점) 네파키즈 23SS 듀얼 슈프림 트레이닝 세트 KJC5905  55,000원\n",
       "8                    북메카 여름방학특집 123 리더스 워크북 그래픽노블 균일가  27,900원\n",
       "9                                  신라면120G x 20입 (박스)  17,900원\n",
       "10                                (특가) 소마셈 팩토 세트 선택구매  34,580원\n",
       "11  쿠폰23440원) 1등급 농협 안심 한우 국거리 덩어리 or 불고기 500g+500...  27,900원\n",
       "12                    후디스 초유단백질 2개 +보틀1 (7/20 단하루 특가)  22,900원\n",
       "13                        신라면+튀김우동+새우탕+오짬뽕 6입4개(총24개)  19,900원\n",
       "14       시매쓰 영재사고력수학 1031(2023개정판) / 과학 1031 단계별 선택구매  59,720원\n",
       "15  JEEP(지프) 등산모자 CA 0352 남성.여성공용 벙거지 낚시 버킷햇 남자 여자 여름  18,000원\n",
       "16                    10%쿠폰 (1+1) 남녀공용 스티치 5부 트레이닝 팬츠   9,900원\n",
       "17    롯데 의성마늘 프랑크 70gx20개 (선착순 프랑크3개추가증정)유통기한23년7월31일  17,900원\n",
       "18                      새콤달콤 경북 아오리 사과 2kg 9-11과 (중과)  12,900원\n",
       "19                    제주농협 귤로장생 하우스감귤 2.5kg 로얄과(2S-M)  24,500원\n",
       "20          스테비아토마토 샤인달콤마토 500gX4팩 달콤한 방울토마토 신선한 제철과일  19,500원"
      ]
     },
     "execution_count": 36,
     "metadata": {},
     "output_type": "execute_result"
    }
   ],
   "source": [
    "from selenium import webdriver as wb\n",
    "from selenium.webdriver.common.keys import Keys\n",
    "from selenium.webdriver.common.by import By\n",
    "import time\n",
    "driver=wb.Chrome()\n",
    "driver.get(\"http://corners.gmarket.co.kr/Bestsellers\")\n",
    "time.sleep(1)\n",
    "list_index=[]\n",
    "list_name=[]\n",
    "list_price=[]\n",
    "for i in range(20):\n",
    "    list_index.append(i+1)\n",
    "    imgs=driver.find_elements(By.CSS_SELECTOR,\"img.image__lazy.image__load\")\n",
    "    imgs[i].click()\n",
    "    time.sleep(1)\n",
    "    j=driver.find_element(By.CLASS_NAME,\"itemtit\")\n",
    "    k=driver.find_element(By.CLASS_NAME,\"price_real\")\n",
    "    list_name.append(j.text)\n",
    "    list_price.append(k.text)\n",
    "    driver.back()\n",
    "    time.sleep(1)\n",
    "dic={\"번호\":list_index,\"상품명\":list_name,\"가격\":list_price}\n",
    "import pandas as pd\n",
    "result=pd.DataFrame(dic)\n",
    "result.set_index(\"번호\",inplace=True)\n",
    "result"
   ]
  },
  {
   "cell_type": "markdown",
   "id": "224aba1e",
   "metadata": {},
   "source": [
    "# Question 4"
   ]
  },
  {
   "cell_type": "code",
   "execution_count": 37,
   "id": "6afa613b",
   "metadata": {
    "ExecuteTime": {
     "end_time": "2023-07-20T02:30:13.445891Z",
     "start_time": "2023-07-20T02:30:12.927114Z"
    }
   },
   "outputs": [],
   "source": [
    "import requests as req\n",
    "from bs4 import BeautifulSoup as bs\n",
    "head={'User-Agent':'Mozilla/5.0 (Windows NT 10.0; Win64; x64) AppleWebKit/537.36 (KHTML, like Gecko) Chrome/114.0.0.0 Safari/537.36'}\n",
    "res=req.get('https://www.melon.com/chart/index.htm',headers=head)\n",
    "soup=bs(res.text,'lxml')\n",
    "song=soup.select('div.ellipsis.rank01>span>a')\n",
    "singer=soup.select(\"div.ellipsis>span.checkEllipsis\")\n",
    "list_index=[]\n",
    "list_song=[]\n",
    "list_singer=[]\n",
    "for i in range(len(song)):\n",
    "    list_index.append(i+1)\n",
    "    list_song.append(song[i].text)\n",
    "    list_singer.append(singer[i].text)\n",
    "import pandas as pd\n",
    "dic={\"순위\":list_index,\"곡명\":list_song,\"가수명\":list_singer}\n",
    "result=pd.DataFrame(dic)\n",
    "result.set_index(\"순위\",inplace=True)\n",
    "result.to_csv('멜론차트.csv',encoding='euc-kr')"
   ]
  },
  {
   "cell_type": "markdown",
   "id": "1e3f6b1c",
   "metadata": {},
   "source": [
    "# Question 5"
   ]
  },
  {
   "cell_type": "code",
   "execution_count": 64,
   "id": "7c90f07f",
   "metadata": {
    "ExecuteTime": {
     "end_time": "2023-07-20T02:49:56.154905Z",
     "start_time": "2023-07-20T02:49:47.093624Z"
    }
   },
   "outputs": [
    {
     "name": "stdout",
     "output_type": "stream",
     "text": [
      "더보기 클릭 완료!\n"
     ]
    }
   ],
   "source": [
    "from selenium import webdriver as wb\n",
    "from selenium.webdriver.common.keys import Keys\n",
    "from selenium.webdriver.common.by import By\n",
    "import time\n",
    "driver=wb.Chrome()\n",
    "driver.get(\"https://www.hsd.co.kr/menu/menu_list\")\n",
    "try:\n",
    "    while True:\n",
    "        btn_more=driver.find_element(By.CSS_SELECTOR,\"a.c_05\")\n",
    "        btn_more.click()\n",
    "        time.sleep(1)\n",
    "except:\n",
    "    print(\"더보기 클릭 완료!\")\n",
    "menu=driver.find_elements(By.CLASS_NAME,\"h.fz_03\")\n",
    "price=driver.find_elements(By.CLASS_NAME,\"item-price>strong\")\n",
    "list_indexH=[]\n",
    "list_menuH=[]\n",
    "list_priceH=[]\n",
    "for i in range(len(menu)):\n",
    "    list_indexH.append(i+1)\n",
    "    list_menuH.append(menu[i].text)\n",
    "    list_priceH.append(price[i].text)\n",
    "dic={\"번호\":list_indexH,\"메뉴명\":list_menuH,\"가격정보\":list_priceH}\n",
    "import pandas as pd\n",
    "result=pd.DataFrame(dic)\n",
    "result.set_index(\"번호\",inplace=True)\n",
    "result.to_csv(\"한솥가격정보.csv\",encoding=\"euc-kr\")"
   ]
  },
  {
   "cell_type": "markdown",
   "id": "1617997e",
   "metadata": {},
   "source": [
    "수고하셨습니다~"
   ]
  },
  {
   "cell_type": "code",
   "execution_count": null,
   "id": "21b8b396",
   "metadata": {},
   "outputs": [],
   "source": []
  }
 ],
 "metadata": {
  "kernelspec": {
   "display_name": "Python 3 (ipykernel)",
   "language": "python",
   "name": "python3"
  },
  "language_info": {
   "codemirror_mode": {
    "name": "ipython",
    "version": 3
   },
   "file_extension": ".py",
   "mimetype": "text/x-python",
   "name": "python",
   "nbconvert_exporter": "python",
   "pygments_lexer": "ipython3",
   "version": "3.9.13"
  },
  "toc": {
   "base_numbering": 1,
   "nav_menu": {},
   "number_sections": true,
   "sideBar": true,
   "skip_h1_title": false,
   "title_cell": "Table of Contents",
   "title_sidebar": "Contents",
   "toc_cell": false,
   "toc_position": {},
   "toc_section_display": true,
   "toc_window_display": false
  },
  "varInspector": {
   "cols": {
    "lenName": 16,
    "lenType": 16,
    "lenVar": 40
   },
   "kernels_config": {
    "python": {
     "delete_cmd_postfix": "",
     "delete_cmd_prefix": "del ",
     "library": "var_list.py",
     "varRefreshCmd": "print(var_dic_list())"
    },
    "r": {
     "delete_cmd_postfix": ") ",
     "delete_cmd_prefix": "rm(",
     "library": "var_list.r",
     "varRefreshCmd": "cat(var_dic_list()) "
    }
   },
   "types_to_exclude": [
    "module",
    "function",
    "builtin_function_or_method",
    "instance",
    "_Feature"
   ],
   "window_display": false
  }
 },
 "nbformat": 4,
 "nbformat_minor": 5
}
