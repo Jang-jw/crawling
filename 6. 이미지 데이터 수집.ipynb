{
 "cells": [
  {
   "cell_type": "code",
   "execution_count": 2,
   "id": "b26bd78c",
   "metadata": {
    "ExecuteTime": {
     "end_time": "2023-07-19T02:09:45.267445Z",
     "start_time": "2023-07-19T02:09:45.254544Z"
    }
   },
   "outputs": [],
   "source": [
    "from selenium import webdriver as wb\n",
    "from selenium.webdriver.common.keys import Keys\n",
    "from selenium.webdriver.common.by import By\n",
    "import time\n",
    "# 파일시스템 관리 (폴더, 파일을 생성 혹은 삭제)\n",
    "import os\n",
    "# 이미지의 경로를 파일로 바꿔주는 라이브러리\n",
    "from urllib.request import urlretrieve"
   ]
  },
  {
   "cell_type": "code",
   "execution_count": 43,
   "id": "55fb8dd7",
   "metadata": {
    "ExecuteTime": {
     "end_time": "2023-07-19T02:50:00.756720Z",
     "start_time": "2023-07-19T02:49:59.349186Z"
    }
   },
   "outputs": [],
   "source": [
    "driver=wb.Chrome()\n",
    "driver.get(\"https://search.naver.com/search.naver?where=image&sm=tab_jum&query=%EA%B9%80%EB%AF%BC%EC%9E%AC\")"
   ]
  },
  {
   "cell_type": "code",
   "execution_count": 44,
   "id": "43042cca",
   "metadata": {
    "ExecuteTime": {
     "end_time": "2023-07-19T02:50:05.689821Z",
     "start_time": "2023-07-19T02:50:02.334026Z"
    }
   },
   "outputs": [],
   "source": [
    "driver=wb.Chrome()\n",
    "driver.get(\"https://search.naver.com/search.naver?where=image&sm=tab_jum&query=%EA%B9%80%EB%AF%BC%EC%9E%AC\")"
   ]
  },
  {
   "cell_type": "code",
   "execution_count": 60,
   "id": "894ba773",
   "metadata": {
    "ExecuteTime": {
     "end_time": "2023-07-19T02:52:34.798606Z",
     "start_time": "2023-07-19T02:52:34.765243Z"
    }
   },
   "outputs": [],
   "source": [
    "img=driver.find_elements(By.CSS_SELECTOR,\"img._image._listImage\")"
   ]
  },
  {
   "cell_type": "code",
   "execution_count": 61,
   "id": "f9331ac5",
   "metadata": {
    "ExecuteTime": {
     "end_time": "2023-07-19T02:52:35.332225Z",
     "start_time": "2023-07-19T02:52:35.308133Z"
    }
   },
   "outputs": [
    {
     "data": {
      "text/plain": [
       "'https://search.pstatic.net/common/?src=http%3A%2F%2Fimgnews.naver.net%2Fimage%2F411%2F2023%2F07%2F15%2F0000031653_004_20230715054101425.jpg&type=a340'"
      ]
     },
     "execution_count": 61,
     "metadata": {},
     "output_type": "execute_result"
    }
   ],
   "source": [
    "img[0].get_attribute(\"src\")"
   ]
  },
  {
   "cell_type": "code",
   "execution_count": 62,
   "id": "8ab103ff",
   "metadata": {
    "ExecuteTime": {
     "end_time": "2023-07-19T02:52:35.953152Z",
     "start_time": "2023-07-19T02:52:35.941277Z"
    }
   },
   "outputs": [
    {
     "data": {
      "text/plain": [
       "350"
      ]
     },
     "execution_count": 62,
     "metadata": {},
     "output_type": "execute_result"
    }
   ],
   "source": [
    "len(img)"
   ]
  },
  {
   "cell_type": "code",
   "execution_count": 63,
   "id": "aadbe4de",
   "metadata": {
    "ExecuteTime": {
     "end_time": "2023-07-19T02:52:41.615522Z",
     "start_time": "2023-07-19T02:52:39.828731Z"
    }
   },
   "outputs": [],
   "source": [
    "src=[]\n",
    "for i in range(len(img)):\n",
    "    src.append(img[i].get_attribute(\"src\"))"
   ]
  },
  {
   "cell_type": "code",
   "execution_count": 64,
   "id": "67a3471c",
   "metadata": {
    "ExecuteTime": {
     "end_time": "2023-07-19T02:52:41.655858Z",
     "start_time": "2023-07-19T02:52:41.641901Z"
    }
   },
   "outputs": [
    {
     "name": "stdout",
     "output_type": "stream",
     "text": [
      "폴더가 존재합니다\n"
     ]
    }
   ],
   "source": [
    "# 바탕화면에 이미지라는 폴더가 없다면 바탕화면에 이미지라는 폴더를 만들어줘!\n",
    "if not os.path.isdir(\"C:/Users/user/Desktop/이미지\"):\n",
    "    os.mkdir(\"C:/Users/user/Desktop/이미지\")\n",
    "else:\n",
    "    print(\"폴더가 존재합니다\")"
   ]
  },
  {
   "cell_type": "code",
   "execution_count": 65,
   "id": "74937e50",
   "metadata": {
    "ExecuteTime": {
     "end_time": "2023-07-19T02:52:54.063074Z",
     "start_time": "2023-07-19T02:52:42.581761Z"
    }
   },
   "outputs": [],
   "source": [
    "cnt=0\n",
    "for i in src:\n",
    "    urlretrieve(i,\"C:/Users/user/Desktop/이미지/\"+str(cnt)+\".jpg\")\n",
    "    cnt+=1"
   ]
  },
  {
   "cell_type": "code",
   "execution_count": null,
   "id": "9d28abd1",
   "metadata": {},
   "outputs": [],
   "source": []
  }
 ],
 "metadata": {
  "kernelspec": {
   "display_name": "Python 3 (ipykernel)",
   "language": "python",
   "name": "python3"
  },
  "language_info": {
   "codemirror_mode": {
    "name": "ipython",
    "version": 3
   },
   "file_extension": ".py",
   "mimetype": "text/x-python",
   "name": "python",
   "nbconvert_exporter": "python",
   "pygments_lexer": "ipython3",
   "version": "3.9.13"
  },
  "toc": {
   "base_numbering": 1,
   "nav_menu": {},
   "number_sections": true,
   "sideBar": true,
   "skip_h1_title": false,
   "title_cell": "Table of Contents",
   "title_sidebar": "Contents",
   "toc_cell": false,
   "toc_position": {},
   "toc_section_display": true,
   "toc_window_display": false
  },
  "varInspector": {
   "cols": {
    "lenName": 16,
    "lenType": 16,
    "lenVar": 40
   },
   "kernels_config": {
    "python": {
     "delete_cmd_postfix": "",
     "delete_cmd_prefix": "del ",
     "library": "var_list.py",
     "varRefreshCmd": "print(var_dic_list())"
    },
    "r": {
     "delete_cmd_postfix": ") ",
     "delete_cmd_prefix": "rm(",
     "library": "var_list.r",
     "varRefreshCmd": "cat(var_dic_list()) "
    }
   },
   "types_to_exclude": [
    "module",
    "function",
    "builtin_function_or_method",
    "instance",
    "_Feature"
   ],
   "window_display": false
  }
 },
 "nbformat": 4,
 "nbformat_minor": 5
}
