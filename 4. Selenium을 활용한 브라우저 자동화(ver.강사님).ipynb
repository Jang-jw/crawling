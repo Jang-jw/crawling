{
 "cells": [
  {
   "cell_type": "code",
   "execution_count": 1,
   "id": "dbc80fb8",
   "metadata": {
    "ExecuteTime": {
     "end_time": "2023-07-18T00:35:43.268805Z",
     "start_time": "2023-07-18T00:35:40.440150Z"
    },
    "collapsed": true
   },
   "outputs": [
    {
     "name": "stdout",
     "output_type": "stream",
     "text": [
      "Requirement already satisfied: selenium in c:\\users\\smhrd\\anaconda3\\lib\\site-packages (4.10.0)\n",
      "Requirement already satisfied: trio~=0.17 in c:\\users\\smhrd\\anaconda3\\lib\\site-packages (from selenium) (0.22.2)\n",
      "Requirement already satisfied: trio-websocket~=0.9 in c:\\users\\smhrd\\anaconda3\\lib\\site-packages (from selenium) (0.10.3)\n",
      "Requirement already satisfied: certifi>=2021.10.8 in c:\\users\\smhrd\\anaconda3\\lib\\site-packages (from selenium) (2022.9.14)\n",
      "Requirement already satisfied: urllib3[socks]<3,>=1.26 in c:\\users\\smhrd\\anaconda3\\lib\\site-packages (from selenium) (1.26.11)\n",
      "Requirement already satisfied: exceptiongroup>=1.0.0rc9 in c:\\users\\smhrd\\anaconda3\\lib\\site-packages (from trio~=0.17->selenium) (1.1.2)\n",
      "Requirement already satisfied: cffi>=1.14 in c:\\users\\smhrd\\anaconda3\\lib\\site-packages (from trio~=0.17->selenium) (1.15.1)\n",
      "Requirement already satisfied: outcome in c:\\users\\smhrd\\anaconda3\\lib\\site-packages (from trio~=0.17->selenium) (1.2.0)\n",
      "Requirement already satisfied: sortedcontainers in c:\\users\\smhrd\\anaconda3\\lib\\site-packages (from trio~=0.17->selenium) (2.4.0)\n",
      "Requirement already satisfied: attrs>=20.1.0 in c:\\users\\smhrd\\anaconda3\\lib\\site-packages (from trio~=0.17->selenium) (21.4.0)\n",
      "Requirement already satisfied: sniffio in c:\\users\\smhrd\\anaconda3\\lib\\site-packages (from trio~=0.17->selenium) (1.2.0)\n",
      "Requirement already satisfied: idna in c:\\users\\smhrd\\anaconda3\\lib\\site-packages (from trio~=0.17->selenium) (3.3)\n",
      "Requirement already satisfied: wsproto>=0.14 in c:\\users\\smhrd\\anaconda3\\lib\\site-packages (from trio-websocket~=0.9->selenium) (1.2.0)\n",
      "Requirement already satisfied: PySocks!=1.5.7,<2.0,>=1.5.6 in c:\\users\\smhrd\\anaconda3\\lib\\site-packages (from urllib3[socks]<3,>=1.26->selenium) (1.7.1)\n",
      "Requirement already satisfied: pycparser in c:\\users\\smhrd\\anaconda3\\lib\\site-packages (from cffi>=1.14->trio~=0.17->selenium) (2.21)\n",
      "Requirement already satisfied: h11<1,>=0.9.0 in c:\\users\\smhrd\\anaconda3\\lib\\site-packages (from wsproto>=0.14->trio-websocket~=0.9->selenium) (0.14.0)\n"
     ]
    }
   ],
   "source": [
    "# 라이브러리 설치\n",
    "!pip install selenium"
   ]
  },
  {
   "cell_type": "code",
   "execution_count": 2,
   "id": "1c058a66",
   "metadata": {
    "ExecuteTime": {
     "end_time": "2023-07-18T00:44:34.277285Z",
     "start_time": "2023-07-18T00:44:34.272298Z"
    }
   },
   "outputs": [],
   "source": [
    "# 크롬드라이버를 설치\n",
    "# 1. 내가 쓰고있는 브라우저와 같은 버전을 설치\n",
    "# 2. 드라이버의 경로는 작업중인 폴더에 넣기!"
   ]
  },
  {
   "cell_type": "code",
   "execution_count": 3,
   "id": "b71a4a3f",
   "metadata": {
    "ExecuteTime": {
     "end_time": "2023-07-18T00:49:35.441348Z",
     "start_time": "2023-07-18T00:49:35.431375Z"
    }
   },
   "outputs": [],
   "source": [
    "# 1. 브라우저의 역할을 해주는 라이브러리\n",
    "from selenium import webdriver as wb\n",
    "# 2. 키보드\n",
    "from selenium.webdriver.common.keys import Keys\n",
    "# 3. 구분자 역할\n",
    "from selenium.webdriver.common.by import By"
   ]
  },
  {
   "cell_type": "code",
   "execution_count": 5,
   "id": "bb991fe9",
   "metadata": {
    "ExecuteTime": {
     "end_time": "2023-07-18T01:17:09.676870Z",
     "start_time": "2023-07-18T01:17:08.562883Z"
    }
   },
   "outputs": [],
   "source": [
    "# 1. 브라우저를 실행\n",
    "driver = wb.Chrome()"
   ]
  },
  {
   "cell_type": "code",
   "execution_count": 8,
   "id": "eca9a157",
   "metadata": {
    "ExecuteTime": {
     "end_time": "2023-07-18T01:19:18.031023Z",
     "start_time": "2023-07-18T01:19:17.247345Z"
    }
   },
   "outputs": [],
   "source": [
    "# 2. 네이버로 이동\n",
    "driver.get(\"https://www.naver.com/\")"
   ]
  },
  {
   "cell_type": "code",
   "execution_count": 10,
   "id": "037401ea",
   "metadata": {
    "ExecuteTime": {
     "end_time": "2023-07-18T01:27:43.040461Z",
     "start_time": "2023-07-18T01:27:43.019542Z"
    }
   },
   "outputs": [],
   "source": [
    "# 3. 검색창에 \"장마\"검색\n",
    "# 특정 요소를 검사하기 위해서 find_element(s)(By.구분자,\"구분값\")\n",
    "search = driver.find_element(By.ID,\"query\")"
   ]
  },
  {
   "cell_type": "code",
   "execution_count": 12,
   "id": "c65d894c",
   "metadata": {
    "ExecuteTime": {
     "end_time": "2023-07-18T01:32:16.628423Z",
     "start_time": "2023-07-18T01:32:16.524701Z"
    }
   },
   "outputs": [],
   "source": [
    "# 인풋창에 특정 값을 보낼때는 send_keys(\"값\")\n",
    "search.send_keys(\"장마\")"
   ]
  },
  {
   "cell_type": "code",
   "execution_count": 13,
   "id": "52afc3e3",
   "metadata": {
    "ExecuteTime": {
     "end_time": "2023-07-18T01:35:14.982228Z",
     "start_time": "2023-07-18T01:35:13.507794Z"
    }
   },
   "outputs": [],
   "source": [
    "# 검색창에 엔터를 쳐서 검색\n",
    "search.send_keys(Keys.ENTER)"
   ]
  },
  {
   "cell_type": "code",
   "execution_count": 16,
   "id": "cba438f5",
   "metadata": {
    "ExecuteTime": {
     "end_time": "2023-07-18T01:40:42.213576Z",
     "start_time": "2023-07-18T01:40:42.144973Z"
    }
   },
   "outputs": [],
   "source": [
    "# 화면의 스크롤을 최하단으로 이동\n",
    "# 1. 바디태그에게 명령을 줘야함\n",
    "body = driver.find_element(By.TAG_NAME,\"body\")\n",
    "body.send_keys(Keys.END)"
   ]
  },
  {
   "cell_type": "code",
   "execution_count": 17,
   "id": "1aece64c",
   "metadata": {
    "ExecuteTime": {
     "end_time": "2023-07-18T01:42:48.792277Z",
     "start_time": "2023-07-18T01:42:48.210511Z"
    }
   },
   "outputs": [],
   "source": [
    "# 뒤로가기 실행\n",
    "# 뒤로가기 버튼은 태그가 아니다!\n",
    "driver.back()"
   ]
  },
  {
   "cell_type": "code",
   "execution_count": 19,
   "id": "24787d40",
   "metadata": {
    "ExecuteTime": {
     "end_time": "2023-07-18T01:45:35.976037Z",
     "start_time": "2023-07-18T01:45:35.875307Z"
    }
   },
   "outputs": [],
   "source": [
    "# 검색창에 이강인 검색\n",
    "search = driver.find_element(By.ID,\"query\")\n",
    "search.send_keys(\"이강인\")"
   ]
  },
  {
   "cell_type": "code",
   "execution_count": 21,
   "id": "56401fc2",
   "metadata": {
    "ExecuteTime": {
     "end_time": "2023-07-18T01:49:49.863735Z",
     "start_time": "2023-07-18T01:49:49.005906Z"
    }
   },
   "outputs": [],
   "source": [
    "# 검색버튼을 클릭\n",
    "btn = driver.find_element(By.CLASS_NAME,\"btn_search\")\n",
    "btn.click()"
   ]
  },
  {
   "cell_type": "code",
   "execution_count": 23,
   "id": "a253ab1f",
   "metadata": {
    "ExecuteTime": {
     "end_time": "2023-07-18T02:10:17.311940Z",
     "start_time": "2023-07-18T02:10:14.951867Z"
    }
   },
   "outputs": [],
   "source": [
    "# 창 종료\n",
    "driver.quit()"
   ]
  },
  {
   "cell_type": "markdown",
   "id": "8e0578f9",
   "metadata": {},
   "source": [
    "# 한솥도시락 정보수집"
   ]
  },
  {
   "cell_type": "code",
   "execution_count": 24,
   "id": "2992b402",
   "metadata": {
    "ExecuteTime": {
     "end_time": "2023-07-18T02:12:52.088601Z",
     "start_time": "2023-07-18T02:12:50.011741Z"
    }
   },
   "outputs": [],
   "source": [
    "driver = wb.Chrome()\n",
    "driver.get(\"https://www.hsd.co.kr/menu/menu_list\")"
   ]
  },
  {
   "cell_type": "code",
   "execution_count": 26,
   "id": "ee5e3b54",
   "metadata": {
    "ExecuteTime": {
     "end_time": "2023-07-18T02:18:00.452074Z",
     "start_time": "2023-07-18T02:18:00.432133Z"
    }
   },
   "outputs": [],
   "source": [
    "# 메뉴이름 수집\n",
    "menu = driver.find_elements(By.CLASS_NAME,\"h.fz_03\")"
   ]
  },
  {
   "cell_type": "code",
   "execution_count": 27,
   "id": "191b7c7a",
   "metadata": {
    "ExecuteTime": {
     "end_time": "2023-07-18T02:18:29.581446Z",
     "start_time": "2023-07-18T02:18:29.175012Z"
    },
    "collapsed": true
   },
   "outputs": [
    {
     "name": "stdout",
     "output_type": "stream",
     "text": [
      "오리 영양도시락\n",
      "통살 오징어튀김\n",
      "미나리 오징어 덮밥(매운맛)\n",
      "미나리 오징어 덮밥(오리지널)\n",
      "열무 감초고추장 비빔밥\n",
      "열무 두부강된장 비빔밥\n",
      "해바라기\n",
      "매화\n",
      "진달래\n",
      "개나리\n",
      "돈까스도련님고기고기\n",
      "탕수육도련님고기고기\n",
      "새치 고기고기\n",
      "돈치 고기고기\n",
      "카츠카츠 도시락\n",
      "숯불직화구이\n",
      "소불고기\n",
      "메가치킨제육\n",
      "칠리 찹쌀탕수육도련님\n",
      "동백\n",
      "치킨제육\n",
      "돈까스도련님\n",
      "제육볶음\n",
      "돈치스팸 도시락\n",
      "제육 김치찌개 정식\n",
      "제육 김치 부대찌개 정식\n",
      "돈치스팸 김치 부대찌개 정식\n",
      "빅치킨마요 김치 부대찌개 정식\n",
      "치킨마요 김치 부대찌개 정식\n",
      "빅치킨마요 김치찌개 정식\n",
      "치킨마요 김치찌개 정식\n",
      "새후마요\n",
      "메가스팸마요\n",
      "스팸마요\n",
      "메가치킨마요\n",
      "왕치킨마요\n",
      "빅치킨마요\n",
      "치킨마요\n",
      "참치마요\n",
      "돈치마요\n",
      "돈까스 카레\n",
      "스팸 김치볶음밥\n",
      "김치볶음밥\n",
      "스팸철판볶음밥\n",
      "소불고기 철판볶음밥\n",
      "나시고랭\n",
      "묵은지 김치찌개\n",
      "김치 부대찌개\n",
      "숯불직화구이 덮밥\n",
      "마파두부 덮밥\n",
      "왕카레돈까스덮밥\n",
      "새우돈까스 덮밥\n",
      "돈까스 덮밥\n",
      "아보카도 훈제 닭가슴살 명란 비빔밥\n",
      "아보카도 소불고기 명란 비빔밥\n",
      "소불고기 감초고추장 비빔밥\n",
      "시골제육 두부강된장 비빔밥\n",
      "참치야채 감초고추장\n",
      "튼튼도시락\n"
     ]
    }
   ],
   "source": [
    "for i in menu :\n",
    "    print(i.text)"
   ]
  },
  {
   "cell_type": "code",
   "execution_count": 31,
   "id": "2458e820",
   "metadata": {
    "ExecuteTime": {
     "end_time": "2023-07-18T02:27:15.400894Z",
     "start_time": "2023-07-18T02:27:15.374962Z"
    }
   },
   "outputs": [],
   "source": [
    "# 가격정보 수집\n",
    "price = driver.find_elements(By.CSS_SELECTOR,\"div.item-price > strong\")"
   ]
  },
  {
   "cell_type": "code",
   "execution_count": 32,
   "id": "84883ba0",
   "metadata": {
    "ExecuteTime": {
     "end_time": "2023-07-18T02:27:29.841182Z",
     "start_time": "2023-07-18T02:27:29.054043Z"
    },
    "collapsed": true
   },
   "outputs": [
    {
     "name": "stdout",
     "output_type": "stream",
     "text": [
      "6,900\n",
      "2,900\n",
      "5,500\n",
      "5,500\n",
      "4,500\n",
      "4,900\n",
      "10,000\n",
      "10,500\n",
      "7,800\n",
      "8,500\n",
      "6,300\n",
      "6,000\n",
      "7,000\n",
      "6,000\n",
      "4,800\n",
      "6,600\n",
      "5,500\n",
      "7,500\n",
      "4,400\n",
      "6,000\n",
      "4,900\n",
      "4,800\n",
      "4,500\n",
      "5,000\n",
      "8,600\n",
      "9,000\n",
      "9,000\n",
      "8,000\n",
      "7,400\n",
      "7,500\n",
      "6,900\n",
      "4,500\n",
      "5,800\n",
      "3,900\n",
      "6,000\n",
      "5,000\n",
      "4,300\n",
      "3,700\n",
      "3,500\n",
      "4,000\n",
      "4,700\n",
      "4,700\n",
      "3,900\n",
      "4,700\n",
      "4,900\n",
      "6,200\n",
      "4,900\n",
      "6,000\n",
      "6,000\n",
      "5,000\n",
      "6,000\n",
      "4,200\n",
      "4,100\n",
      "6,500\n",
      "6,500\n",
      "5,400\n",
      "5,200\n",
      "3,500\n",
      "5,000\n"
     ]
    }
   ],
   "source": [
    "for i in price :\n",
    "    print(i.text)"
   ]
  },
  {
   "cell_type": "code",
   "execution_count": 33,
   "id": "db46e505",
   "metadata": {
    "ExecuteTime": {
     "end_time": "2023-07-18T02:30:50.706899Z",
     "start_time": "2023-07-18T02:30:50.701911Z"
    }
   },
   "outputs": [
    {
     "data": {
      "text/plain": [
       "59"
      ]
     },
     "execution_count": 33,
     "metadata": {},
     "output_type": "execute_result"
    }
   ],
   "source": [
    "len(price)"
   ]
  },
  {
   "cell_type": "code",
   "execution_count": 35,
   "id": "1c864984",
   "metadata": {
    "ExecuteTime": {
     "end_time": "2023-07-18T02:35:43.576060Z",
     "start_time": "2023-07-18T02:35:43.550163Z"
    }
   },
   "outputs": [],
   "source": [
    "# 더보기 버튼을 클릭해서 모든 데이터를 조회\n",
    "btn_more = driver.find_element(By.CSS_SELECTOR,\"a.c_05\")"
   ]
  },
  {
   "cell_type": "code",
   "execution_count": 36,
   "id": "f0bad745",
   "metadata": {
    "ExecuteTime": {
     "end_time": "2023-07-18T02:36:04.584623Z",
     "start_time": "2023-07-18T02:36:04.516801Z"
    }
   },
   "outputs": [],
   "source": [
    "btn_more.click()"
   ]
  },
  {
   "cell_type": "code",
   "execution_count": 40,
   "id": "582d6f08",
   "metadata": {
    "ExecuteTime": {
     "end_time": "2023-07-18T02:48:38.757121Z",
     "start_time": "2023-07-18T02:48:38.752138Z"
    }
   },
   "outputs": [],
   "source": [
    "# 컴퓨터에게 시간을 부여하는 라이브러리\n",
    "import time"
   ]
  },
  {
   "cell_type": "code",
   "execution_count": 41,
   "id": "b1a58255",
   "metadata": {
    "ExecuteTime": {
     "end_time": "2023-07-18T02:49:31.085531Z",
     "start_time": "2023-07-18T02:49:26.004680Z"
    }
   },
   "outputs": [
    {
     "name": "stdout",
     "output_type": "stream",
     "text": [
      "더보기가 완료되었습니다!.\n"
     ]
    }
   ],
   "source": [
    "# 더보기버튼을 클릭하는데 반복 횟수를 모르니 while 작성\n",
    "# But, 더보기버튼이 완료가 되면 코드가 오류가 발생\n",
    "# How? 예외처리를 통해서 오류를 건너뛴다.\n",
    "try :\n",
    "    # 오류 나기전까지 실행하는 공간\n",
    "    while True :\n",
    "        btn_more = driver.find_element(By.CSS_SELECTOR,\"a.c_05\")\n",
    "        btn_more.click()\n",
    "        time.sleep(5)\n",
    "except:\n",
    "    # 오류가 난 후 실행하는 공간\n",
    "    print(\"더보기가 완료되었습니다!.\")"
   ]
  },
  {
   "cell_type": "code",
   "execution_count": 42,
   "id": "b0b36b6b",
   "metadata": {
    "ExecuteTime": {
     "end_time": "2023-07-18T03:08:00.049224Z",
     "start_time": "2023-07-18T03:08:00.013328Z"
    }
   },
   "outputs": [],
   "source": [
    "menu = driver.find_elements(By.CLASS_NAME,\"h.fz_03\")\n",
    "price = driver.find_elements(By.CSS_SELECTOR,\"div.item-price > strong\")"
   ]
  },
  {
   "cell_type": "code",
   "execution_count": 44,
   "id": "74cdf3e4",
   "metadata": {
    "ExecuteTime": {
     "end_time": "2023-07-18T03:08:16.702340Z",
     "start_time": "2023-07-18T03:08:16.690372Z"
    }
   },
   "outputs": [
    {
     "data": {
      "text/plain": [
       "97"
      ]
     },
     "execution_count": 44,
     "metadata": {},
     "output_type": "execute_result"
    }
   ],
   "source": [
    "len(price)"
   ]
  },
  {
   "cell_type": "code",
   "execution_count": 46,
   "id": "3bb781ee",
   "metadata": {
    "ExecuteTime": {
     "end_time": "2023-07-18T03:31:52.477412Z",
     "start_time": "2023-07-18T03:31:51.225772Z"
    }
   },
   "outputs": [],
   "source": [
    "# 메뉴와 가격의 순수한 텍스트 정보만 추출\n",
    "menu_list = []\n",
    "price_list = []\n",
    "for i in range(len(menu)):\n",
    "    menu_list.append(menu[i].text)\n",
    "    price_list.append(price[i].text)"
   ]
  },
  {
   "cell_type": "code",
   "execution_count": 48,
   "id": "9135775c",
   "metadata": {
    "ExecuteTime": {
     "end_time": "2023-07-18T03:32:11.842838Z",
     "start_time": "2023-07-18T03:32:11.160670Z"
    }
   },
   "outputs": [],
   "source": [
    "import pandas as pd"
   ]
  },
  {
   "cell_type": "code",
   "execution_count": 49,
   "id": "86ce16bb",
   "metadata": {
    "ExecuteTime": {
     "end_time": "2023-07-18T03:33:23.417239Z",
     "start_time": "2023-07-18T03:33:23.400287Z"
    }
   },
   "outputs": [],
   "source": [
    "dic = {\"메뉴이름\":menu_list,\"가격\" : price_list}"
   ]
  },
  {
   "cell_type": "code",
   "execution_count": 51,
   "id": "fc6e7caa",
   "metadata": {
    "ExecuteTime": {
     "end_time": "2023-07-18T03:34:12.143575Z",
     "start_time": "2023-07-18T03:34:12.136595Z"
    }
   },
   "outputs": [],
   "source": [
    "hansot = pd.DataFrame(dic)"
   ]
  },
  {
   "cell_type": "code",
   "execution_count": 53,
   "id": "725c5f41",
   "metadata": {
    "ExecuteTime": {
     "end_time": "2023-07-18T03:34:47.210490Z",
     "start_time": "2023-07-18T03:34:47.192565Z"
    }
   },
   "outputs": [],
   "source": [
    "hansot.to_csv(\"한솥메뉴.csv\", encoding=\"euc-kr\")"
   ]
  },
  {
   "cell_type": "markdown",
   "id": "e4045cf4",
   "metadata": {},
   "source": [
    "# 한셀에 합치기"
   ]
  },
  {
   "cell_type": "code",
   "execution_count": 54,
   "id": "c1c081a9",
   "metadata": {
    "ExecuteTime": {
     "end_time": "2023-07-18T03:47:03.942159Z",
     "start_time": "2023-07-18T03:46:52.848196Z"
    }
   },
   "outputs": [
    {
     "name": "stdout",
     "output_type": "stream",
     "text": [
      "더보기가 완료되었습니다!.\n"
     ]
    }
   ],
   "source": [
    "from selenium import webdriver as wb\n",
    "from selenium.webdriver.common.keys import Keys\n",
    "from selenium.webdriver.common.by import By\n",
    "import pandas as pd\n",
    "\n",
    "driver = wb.Chrome()\n",
    "driver.get(\"https://www.hsd.co.kr/menu/menu_list\")\n",
    "time.sleep(1)\n",
    "try :\n",
    "    while True :\n",
    "        btn_more = driver.find_element(By.CSS_SELECTOR,\"a.c_05\")\n",
    "        btn_more.click()\n",
    "        time.sleep(1)\n",
    "except:\n",
    "    print(\"더보기가 완료되었습니다!.\")\n",
    "    \n",
    "menu = driver.find_elements(By.CLASS_NAME,\"h.fz_03\")\n",
    "price = driver.find_elements(By.CSS_SELECTOR,\"div.item-price > strong\")\n",
    "\n",
    "menu_list = []\n",
    "price_list = []\n",
    "for i in range(len(menu)):\n",
    "    menu_list.append(menu[i].text)\n",
    "    price_list.append(price[i].text)\n",
    "\n",
    "dic = {\"메뉴이름\":menu_list,\"가격\" : price_list}\n",
    "hansot = pd.DataFrame(dic)\n",
    "hansot.to_csv(\"한솥메뉴.csv\", encoding=\"euc-kr\")\n",
    "\n",
    "driver.quit()"
   ]
  },
  {
   "cell_type": "code",
   "execution_count": null,
   "id": "9e0e9a3b",
   "metadata": {},
   "outputs": [],
   "source": []
  }
 ],
 "metadata": {
  "kernelspec": {
   "display_name": "Python 3 (ipykernel)",
   "language": "python",
   "name": "python3"
  },
  "language_info": {
   "codemirror_mode": {
    "name": "ipython",
    "version": 3
   },
   "file_extension": ".py",
   "mimetype": "text/x-python",
   "name": "python",
   "nbconvert_exporter": "python",
   "pygments_lexer": "ipython3",
   "version": "3.9.13"
  },
  "toc": {
   "base_numbering": 1,
   "nav_menu": {},
   "number_sections": true,
   "sideBar": true,
   "skip_h1_title": false,
   "title_cell": "Table of Contents",
   "title_sidebar": "Contents",
   "toc_cell": false,
   "toc_position": {},
   "toc_section_display": true,
   "toc_window_display": false
  },
  "varInspector": {
   "cols": {
    "lenName": 16,
    "lenType": 16,
    "lenVar": 40
   },
   "kernels_config": {
    "python": {
     "delete_cmd_postfix": "",
     "delete_cmd_prefix": "del ",
     "library": "var_list.py",
     "varRefreshCmd": "print(var_dic_list())"
    },
    "r": {
     "delete_cmd_postfix": ") ",
     "delete_cmd_prefix": "rm(",
     "library": "var_list.r",
     "varRefreshCmd": "cat(var_dic_list()) "
    }
   },
   "types_to_exclude": [
    "module",
    "function",
    "builtin_function_or_method",
    "instance",
    "_Feature"
   ],
   "window_display": false
  }
 },
 "nbformat": 4,
 "nbformat_minor": 5
}
