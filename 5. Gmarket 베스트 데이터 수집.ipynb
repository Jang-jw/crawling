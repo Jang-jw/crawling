{
 "cells": [
  {
   "cell_type": "code",
   "execution_count": 1,
   "id": "0c255a1d",
   "metadata": {
    "ExecuteTime": {
     "end_time": "2023-07-19T00:28:40.593421Z",
     "start_time": "2023-07-19T00:28:40.473901Z"
    }
   },
   "outputs": [],
   "source": [
    "from selenium import webdriver as wb\n",
    "from selenium.webdriver.common.by import By\n",
    "import time"
   ]
  },
  {
   "cell_type": "code",
   "execution_count": 92,
   "id": "471583de",
   "metadata": {
    "ExecuteTime": {
     "end_time": "2023-07-19T01:49:56.137093Z",
     "start_time": "2023-07-19T01:49:52.895098Z"
    }
   },
   "outputs": [],
   "source": [
    "driver=wb.Chrome()\n",
    "driver.get(\"https://www.gmarket.co.kr/n/best\")\n",
    "time.sleep(1)"
   ]
  },
  {
   "cell_type": "code",
   "execution_count": 94,
   "id": "619d3baf",
   "metadata": {
    "ExecuteTime": {
     "end_time": "2023-07-19T01:50:03.403196Z",
     "start_time": "2023-07-19T01:50:03.382888Z"
    }
   },
   "outputs": [],
   "source": [
    "# 1. 첫번째 상품의 이미지를 클릭해서 이동\n",
    "# 내가 보고있는 화면에서 이미지들 중에 첫번째 이미지를 클릭 \n",
    "imgs=driver.find_elements(By.CSS_SELECTOR,\"img.image__lazy.image__load\")"
   ]
  },
  {
   "cell_type": "code",
   "execution_count": 95,
   "id": "f0969876",
   "metadata": {
    "ExecuteTime": {
     "end_time": "2023-07-19T01:50:07.253449Z",
     "start_time": "2023-07-19T01:50:04.431044Z"
    }
   },
   "outputs": [],
   "source": [
    "imgs[0].click()"
   ]
  },
  {
   "cell_type": "code",
   "execution_count": 96,
   "id": "83cd2a55",
   "metadata": {
    "ExecuteTime": {
     "end_time": "2023-07-19T01:50:07.995953Z",
     "start_time": "2023-07-19T01:50:07.965829Z"
    }
   },
   "outputs": [
    {
     "data": {
      "text/plain": [
       "'썬골드키위 점보 사이즈(146g이상) 15개입+2개 증정(총 17개) 2.6kg'"
      ]
     },
     "execution_count": 96,
     "metadata": {},
     "output_type": "execute_result"
    }
   ],
   "source": [
    "driver.find_element(By.CLASS_NAME,\"itemtit\").text"
   ]
  },
  {
   "cell_type": "code",
   "execution_count": 97,
   "id": "e2485647",
   "metadata": {
    "ExecuteTime": {
     "end_time": "2023-07-19T01:50:08.708149Z",
     "start_time": "2023-07-19T01:50:08.669914Z"
    }
   },
   "outputs": [
    {
     "data": {
      "text/plain": [
       "'25,000원'"
      ]
     },
     "execution_count": 97,
     "metadata": {},
     "output_type": "execute_result"
    }
   ],
   "source": [
    "driver.find_element(By.CLASS_NAME,\"price_real\").text"
   ]
  },
  {
   "cell_type": "code",
   "execution_count": 98,
   "id": "6ad0752b",
   "metadata": {
    "ExecuteTime": {
     "end_time": "2023-07-19T01:50:09.193365Z",
     "start_time": "2023-07-19T01:50:09.165948Z"
    }
   },
   "outputs": [
    {
     "data": {
      "text/plain": [
       "'쿠폰적용가'"
      ]
     },
     "execution_count": 98,
     "metadata": {},
     "output_type": "execute_result"
    }
   ],
   "source": [
    "driver.find_element(By.CLASS_NAME,\"button__coupon-application.sprite__vip2x--after\").text"
   ]
  },
  {
   "cell_type": "code",
   "execution_count": 99,
   "id": "7703d2b9",
   "metadata": {
    "ExecuteTime": {
     "end_time": "2023-07-19T01:50:09.677218Z",
     "start_time": "2023-07-19T01:50:09.647174Z"
    }
   },
   "outputs": [
    {
     "data": {
      "text/plain": [
       "'20,000원'"
      ]
     },
     "execution_count": 99,
     "metadata": {},
     "output_type": "execute_result"
    }
   ],
   "source": [
    "driver.find_element(By.CLASS_NAME,\"price_innerwrap.price_innerwrap-coupon>strong\").text"
   ]
  },
  {
   "cell_type": "code",
   "execution_count": 110,
   "id": "c6238192",
   "metadata": {
    "ExecuteTime": {
     "end_time": "2023-07-19T01:56:21.513312Z",
     "start_time": "2023-07-19T01:56:21.478738Z"
    }
   },
   "outputs": [],
   "source": [
    "driver.back()"
   ]
  },
  {
   "cell_type": "code",
   "execution_count": 112,
   "id": "f7c0562b",
   "metadata": {
    "ExecuteTime": {
     "end_time": "2023-07-19T02:08:48.071557Z",
     "start_time": "2023-07-19T02:03:23.542621Z"
    }
   },
   "outputs": [
    {
     "name": "stdout",
     "output_type": "stream",
     "text": [
      "완료\n"
     ]
    },
    {
     "data": {
      "text/plain": [
       "[1,\n",
       " 2,\n",
       " 3,\n",
       " 4,\n",
       " 5,\n",
       " 6,\n",
       " 7,\n",
       " 8,\n",
       " 9,\n",
       " 10,\n",
       " 11,\n",
       " 12,\n",
       " 13,\n",
       " 14,\n",
       " 15,\n",
       " 16,\n",
       " 17,\n",
       " 18,\n",
       " 19,\n",
       " 20,\n",
       " 21,\n",
       " 22,\n",
       " 23,\n",
       " 24,\n",
       " 25,\n",
       " 26,\n",
       " 27,\n",
       " 28,\n",
       " 29,\n",
       " 30,\n",
       " 31,\n",
       " 32,\n",
       " 33,\n",
       " 34,\n",
       " 35,\n",
       " 36,\n",
       " 37,\n",
       " 38,\n",
       " 39,\n",
       " 40,\n",
       " 41,\n",
       " 42,\n",
       " 43,\n",
       " 44,\n",
       " 45,\n",
       " 46,\n",
       " 47,\n",
       " 48,\n",
       " 49,\n",
       " 50,\n",
       " 51,\n",
       " 52,\n",
       " 53,\n",
       " 54,\n",
       " 55,\n",
       " 56,\n",
       " 57,\n",
       " 58,\n",
       " 59]"
      ]
     },
     "metadata": {},
     "output_type": "display_data"
    },
    {
     "data": {
      "text/plain": [
       "['썬골드키위 점보 사이즈(146g이상) 15개입+2개 증정(총 17개) 2.6kg',\n",
       " '단하루 18320원) 청정우 차돌박이 (3초구이 샤브용) 250gX4팩',\n",
       " '생 새우살 (대) 200g 3팩',\n",
       " '동아오츠카 T 포카리스웨트 340ml 펫트 x 2박스(총 40개)',\n",
       " '수안보농협 햇 대학찰옥수수 15개 특 16cm이상(쿠폰가 10220원)',\n",
       " '단짠 돼지불고기 500g 4팩 총2Kg 간장 양념 불고기 돼지고기 양념육 청정 제주돼지',\n",
       " '스테비아토마토 샤인달콤마토 500gX4팩',\n",
       " '국내산 다진마늘 2kg/냉장/상시제조/쿠폰가14320원',\n",
       " '(특가) 소마셈 팩토 세트 선택구매',\n",
       " 'CJ제일제당 T 고메 소바바치킨 소이허니 순살 375g X 5개',\n",
       " 'VIPS 빕스 볶음밥 5종 230g 10개세트',\n",
       " '병아리콩 4kg(2kg+2kg) 쿠폰가11600원',\n",
       " '플레이도우 뉴 메가 팩 촉감 점토놀이 1+1',\n",
       " '우리 아기 오감발달 손가락 사운드북 (어어흥 + 부릉부릉) 샘 태플린',\n",
       " '기존가 159 000원 내셔널지오그래픽 헤러 플리스 풀집업 4컬러택1',\n",
       " '플레이도우 뉴크리에이티브센터 테이블세트',\n",
       " '한성 크래미 몬스터크랩 72g X 10개',\n",
       " '(쿠폰가13180원)(2장세트)쿨모달 끈브라나시 1+1 브라캡 캐미솔 요가복 필라테스',\n",
       " '베스트웨이 성인용 물놀이 라운드 원형 튜브 수영 용품',\n",
       " '밀크앤허니 호두파이 750g 1개/주문제작/간식/(신세계푸드 중복쿠폰 할인)',\n",
       " '제주농협 귤로장생 하우스감귤 2.5kg 로얄과(2S-M)',\n",
       " '징크시럽 키즈 (60ml x 2개) X2개',\n",
       " '쌈빡김치 국내산 열무김치 2kg',\n",
       " '(무료/당일발송) 풍국면 들기름막국수 10인분 (1인분x10개입) 행사 선착순 혜택가 19.120원',\n",
       " '제주농협 귤로장생 하우스감귤 4.5kg 로얄과(2S-M)',\n",
       " '(유니버스클럽 전용) 메가박스 일반예매권 2D-주중/주말',\n",
       " '산지직송 당도선별 가정용 성주참외 5kg 랜덤 실중량 GAP인증 파손방지 봉지포장',\n",
       " '듀오락 생유산균 초코볼 레드에디션 2통(120알)',\n",
       " '감자탕 미미의밥상 감자탕 4.7kg+라면사리+겨자참소스3개',\n",
       " '종근당건강 유산균 락토핏 골드 50포 3통(150일분) +골드 30포 증정',\n",
       " '공구/ 이케이북-이케이북 도서 골라담기',\n",
       " '엘레쎄 여름맞이 인기 반팔/반바지 BEST 모음전',\n",
       " '줌마수홍 박수홍의 착한 뼈없는 갈비탕 700g x 5팩',\n",
       " '산지직송 당도선별 가정용 성주참외 5kg 랜덤 실중량 GAP인증 파손방지 봉지포장',\n",
       " '제스프리 슈퍼점보 썬 골드키위 2kg(개당 180g내외) 공식인증 맛젤',\n",
       " '(피자헛) 수퍼슈프림 오리지널L + 콘소메 팝콘치킨 + 콜라 1.25L',\n",
       " '이맛쌀 20kg',\n",
       " '올반 볶음밥 3종 10봉(새우4+김치4+우삼겹2)(신세계푸드 중복쿠폰 할인)',\n",
       " '(총다당체 200mg)먹는 이뮨 알로에 젤리스틱 알로에겔 알로에베라 3박스 푸드 데이 특가',\n",
       " '아카페라 심플리 아메리카노 400mlx20펫',\n",
       " '제주농협 귤로장생 하우스감귤 4.5kg 소과',\n",
       " '레쓰비 마일드 캔커피 160ml x 60캔 /커피음료/업소용음료/업소용커피',\n",
       " '올반 꿔바로우 500gx5팩',\n",
       " '맘마밀 표고버섯소고기 100g 10팩/이유식 외 모음딜',\n",
       " '과학 학습만화 베틀 사이언스 전10권',\n",
       " '공식인증점)위닉스 17L제습기 {DN3E170-LWK} 1등급 제습기 (빠른발송)',\n",
       " '너프건 엘리트 2.0 로드아웃 배틀팩',\n",
       " '칼슘 마그네슘 아연 비타민D K 2병 6개월분',\n",
       " '알티지 오메가3 RTG 엔초비 캐나다 90캡슐 X 2박스 (6개월분) EPA+DHA 1100mg 고함량',\n",
       " '햇반 210g x24입',\n",
       " '콩기름 1.8L x 3개',\n",
       " '찬들마루 국내산 쫄깃 담백한 소문난 뽕잎 편육 200g x 3',\n",
       " '까먹는 껍질 구운캐슈넛 1kg(500g+500g) 크리스피 견과류',\n",
       " '파스퇴르 무항생제 바른목장우유 190mL48팩',\n",
       " '영주 안동 청송 여름 초록사과 썸머킹 2KG 중과(10-12개)',\n",
       " '햇 수미감자 중상 10kg (80~150g)',\n",
       " '곰돌이 자동차 열쇠고리 키링 키홀더 1+1 귀여운 깜짝 선물로 적극추천 인기상품 빅세일',\n",
       " '20% 흄 - 여름 최종가 세일 반바지/반팔/셔츠/데님/팬츠']"
      ]
     },
     "metadata": {},
     "output_type": "display_data"
    },
    {
     "data": {
      "text/plain": [
       "['25,000원',\n",
       " '22,900원',\n",
       " '16,500원',\n",
       " '29,310원',\n",
       " '12,900원',\n",
       " '12,730원',\n",
       " '19,900원',\n",
       " '17,900원',\n",
       " '34,580원',\n",
       " '34,900원',\n",
       " '32,900원',\n",
       " '14,500원',\n",
       " '28,300원',\n",
       " '30,690원',\n",
       " '61,220원',\n",
       " '20,890원',\n",
       " '14,900원',\n",
       " '15,500원',\n",
       " '18,900원',\n",
       " '18,700원',\n",
       " '24,500원',\n",
       " '23,900원',\n",
       " '11,900원',\n",
       " '23,900원',\n",
       " '37,500원',\n",
       " '15,000원',\n",
       " '12,500원',\n",
       " '27,200원',\n",
       " '25,100원',\n",
       " '30,900원',\n",
       " '10,500원',\n",
       " '15,000원',\n",
       " '37,450원',\n",
       " '12,500원',\n",
       " '22,800원',\n",
       " '21,500원',\n",
       " '44,910원',\n",
       " '19,300원',\n",
       " '26,900원',\n",
       " '23,500원',\n",
       " '35,500원',\n",
       " '26,000원',\n",
       " '30,900원',\n",
       " '18,900원',\n",
       " '49,000원',\n",
       " '392,000원',\n",
       " '9,900원',\n",
       " '21,900원',\n",
       " '36,900원',\n",
       " '25,300원',\n",
       " '22,540원',\n",
       " '11,990원',\n",
       " '19,900원',\n",
       " '32,900원',\n",
       " '15,900원',\n",
       " '14,900원',\n",
       " '8,900원',\n",
       " '11,200원']"
      ]
     },
     "metadata": {},
     "output_type": "display_data"
    },
    {
     "data": {
      "text/plain": [
       "[]"
      ]
     },
     "metadata": {},
     "output_type": "display_data"
    }
   ],
   "source": [
    "list_index=[]\n",
    "list_name=[]\n",
    "list_price=[]\n",
    "list_price_real=[]\n",
    "try:\n",
    "    for i in range(len(imgs)):\n",
    "        list_index.append(i+1)\n",
    "        imgs=driver.find_elements(By.CLASS_NAME,\"image__lazy.image__load\")\n",
    "        imgs[i].click()\n",
    "        time.sleep(1)\n",
    "        list_name.append(driver.find_element(By.CLASS_NAME,\"itemtit\").text)\n",
    "        list_price.append(driver.find_element(By.CLASS_NAME,\"price_real\").text)\n",
    "        driver.back()\n",
    "        time.sleep(1)\n",
    "except:\n",
    "    print(\"완료\")\n",
    "display(list_index,\n",
    "       list_name,\n",
    "       list_price,\n",
    "       list_price_real)"
   ]
  },
  {
   "cell_type": "code",
   "execution_count": 68,
   "id": "1efca457",
   "metadata": {
    "ExecuteTime": {
     "end_time": "2023-07-19T01:32:48.704123Z",
     "start_time": "2023-07-19T01:32:48.695673Z"
    }
   },
   "outputs": [
    {
     "data": {
      "text/plain": [
       "44"
      ]
     },
     "execution_count": 68,
     "metadata": {},
     "output_type": "execute_result"
    }
   ],
   "source": [
    "len(imgs)"
   ]
  },
  {
   "cell_type": "code",
   "execution_count": null,
   "id": "ebc41824",
   "metadata": {},
   "outputs": [],
   "source": []
  }
 ],
 "metadata": {
  "kernelspec": {
   "display_name": "Python 3 (ipykernel)",
   "language": "python",
   "name": "python3"
  },
  "language_info": {
   "codemirror_mode": {
    "name": "ipython",
    "version": 3
   },
   "file_extension": ".py",
   "mimetype": "text/x-python",
   "name": "python",
   "nbconvert_exporter": "python",
   "pygments_lexer": "ipython3",
   "version": "3.9.13"
  },
  "toc": {
   "base_numbering": 1,
   "nav_menu": {},
   "number_sections": true,
   "sideBar": true,
   "skip_h1_title": false,
   "title_cell": "Table of Contents",
   "title_sidebar": "Contents",
   "toc_cell": false,
   "toc_position": {},
   "toc_section_display": true,
   "toc_window_display": false
  },
  "varInspector": {
   "cols": {
    "lenName": 16,
    "lenType": 16,
    "lenVar": 40
   },
   "kernels_config": {
    "python": {
     "delete_cmd_postfix": "",
     "delete_cmd_prefix": "del ",
     "library": "var_list.py",
     "varRefreshCmd": "print(var_dic_list())"
    },
    "r": {
     "delete_cmd_postfix": ") ",
     "delete_cmd_prefix": "rm(",
     "library": "var_list.r",
     "varRefreshCmd": "cat(var_dic_list()) "
    }
   },
   "types_to_exclude": [
    "module",
    "function",
    "builtin_function_or_method",
    "instance",
    "_Feature"
   ],
   "window_display": false
  }
 },
 "nbformat": 4,
 "nbformat_minor": 5
}
