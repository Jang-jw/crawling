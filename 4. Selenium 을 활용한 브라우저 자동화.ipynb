{
 "cells": [
  {
   "cell_type": "code",
   "execution_count": 1,
   "id": "f191af11",
   "metadata": {
    "ExecuteTime": {
     "end_time": "2023-07-18T02:10:52.731798Z",
     "start_time": "2023-07-18T02:10:50.090368Z"
    },
    "scrolled": true
   },
   "outputs": [
    {
     "name": "stdout",
     "output_type": "stream",
     "text": [
      "Requirement already satisfied: selenium in c:\\users\\user\\anaconda3\\lib\\site-packages (4.10.0)\n",
      "Requirement already satisfied: trio~=0.17 in c:\\users\\user\\anaconda3\\lib\\site-packages (from selenium) (0.22.2)\n",
      "Requirement already satisfied: trio-websocket~=0.9 in c:\\users\\user\\anaconda3\\lib\\site-packages (from selenium) (0.10.3)\n",
      "Requirement already satisfied: certifi>=2021.10.8 in c:\\users\\user\\anaconda3\\lib\\site-packages (from selenium) (2022.9.14)\n",
      "Requirement already satisfied: urllib3[socks]<3,>=1.26 in c:\\users\\user\\anaconda3\\lib\\site-packages (from selenium) (1.26.11)\n",
      "Requirement already satisfied: attrs>=20.1.0 in c:\\users\\user\\anaconda3\\lib\\site-packages (from trio~=0.17->selenium) (21.4.0)\n",
      "Requirement already satisfied: sortedcontainers in c:\\users\\user\\anaconda3\\lib\\site-packages (from trio~=0.17->selenium) (2.4.0)\n",
      "Requirement already satisfied: outcome in c:\\users\\user\\anaconda3\\lib\\site-packages (from trio~=0.17->selenium) (1.2.0)\n",
      "Requirement already satisfied: exceptiongroup>=1.0.0rc9 in c:\\users\\user\\anaconda3\\lib\\site-packages (from trio~=0.17->selenium) (1.1.2)\n",
      "Requirement already satisfied: sniffio in c:\\users\\user\\anaconda3\\lib\\site-packages (from trio~=0.17->selenium) (1.2.0)\n",
      "Requirement already satisfied: cffi>=1.14 in c:\\users\\user\\anaconda3\\lib\\site-packages (from trio~=0.17->selenium) (1.15.1)\n",
      "Requirement already satisfied: idna in c:\\users\\user\\anaconda3\\lib\\site-packages (from trio~=0.17->selenium) (3.3)\n",
      "Requirement already satisfied: wsproto>=0.14 in c:\\users\\user\\anaconda3\\lib\\site-packages (from trio-websocket~=0.9->selenium) (1.2.0)\n",
      "Requirement already satisfied: PySocks!=1.5.7,<2.0,>=1.5.6 in c:\\users\\user\\anaconda3\\lib\\site-packages (from urllib3[socks]<3,>=1.26->selenium) (1.7.1)\n",
      "Requirement already satisfied: pycparser in c:\\users\\user\\anaconda3\\lib\\site-packages (from cffi>=1.14->trio~=0.17->selenium) (2.21)\n",
      "Requirement already satisfied: h11<1,>=0.9.0 in c:\\users\\user\\anaconda3\\lib\\site-packages (from wsproto>=0.14->trio-websocket~=0.9->selenium) (0.14.0)\n"
     ]
    }
   ],
   "source": [
    "# 라이브러리 설치\n",
    "!pip install selenium"
   ]
  },
  {
   "cell_type": "code",
   "execution_count": 2,
   "id": "a4200fc4",
   "metadata": {
    "ExecuteTime": {
     "end_time": "2023-07-18T02:10:52.747757Z",
     "start_time": "2023-07-18T02:10:52.731798Z"
    }
   },
   "outputs": [],
   "source": [
    "# 크롬 드라이버 설치\n",
    "# 1. 내가 쓰고 있는 브라우저와 같은 버전을 설치\n",
    "# 2. 드라이버의 경로는 작업중인 폴더에 넣기!"
   ]
  },
  {
   "cell_type": "code",
   "execution_count": 3,
   "id": "a7de1e31",
   "metadata": {
    "ExecuteTime": {
     "end_time": "2023-07-18T02:10:52.825861Z",
     "start_time": "2023-07-18T02:10:52.749755Z"
    }
   },
   "outputs": [],
   "source": [
    "# 1. 브라우저의 역할을 해주는 라이브러리\n",
    "from selenium import webdriver as wb\n",
    "# 2. 키보드\n",
    "from selenium.webdriver.common.keys import Keys\n",
    "# 3. 구분자 역할\n",
    "from selenium.webdriver.common.by import By"
   ]
  },
  {
   "cell_type": "code",
   "execution_count": 4,
   "id": "edf06d0c",
   "metadata": {
    "ExecuteTime": {
     "end_time": "2023-07-18T02:10:53.884693Z",
     "start_time": "2023-07-18T02:10:52.826861Z"
    }
   },
   "outputs": [],
   "source": [
    "# 1. 브라우저를 실행\n",
    "driver=wb.Chrome()"
   ]
  },
  {
   "cell_type": "code",
   "execution_count": 5,
   "id": "a7728e9c",
   "metadata": {
    "ExecuteTime": {
     "end_time": "2023-07-18T02:10:54.397283Z",
     "start_time": "2023-07-18T02:10:53.884693Z"
    }
   },
   "outputs": [],
   "source": [
    "# 2. 네이버로 이동\n",
    "driver.get(\"http://www.naver.com/\")"
   ]
  },
  {
   "cell_type": "code",
   "execution_count": 6,
   "id": "31b1bed2",
   "metadata": {
    "ExecuteTime": {
     "end_time": "2023-07-18T02:10:54.664367Z",
     "start_time": "2023-07-18T02:10:54.399279Z"
    }
   },
   "outputs": [],
   "source": [
    "# 3. 검색창에 '장마' 검색\n",
    "# 특정 요소를 검사하기 위해서 find_element(s)(By.구분자,\"구분값\") \n",
    "search=driver.find_element(By.ID,\"query\")"
   ]
  },
  {
   "cell_type": "code",
   "execution_count": 7,
   "id": "4bcd079f",
   "metadata": {
    "ExecuteTime": {
     "end_time": "2023-07-18T02:10:54.869318Z",
     "start_time": "2023-07-18T02:10:54.666362Z"
    }
   },
   "outputs": [],
   "source": [
    "# 인풋창에 특정 값을 보낼때는 send_keys(\"값\")\n",
    "search.send_keys(\"장마\")"
   ]
  },
  {
   "cell_type": "code",
   "execution_count": 8,
   "id": "0a94f7ea",
   "metadata": {
    "ExecuteTime": {
     "end_time": "2023-07-18T02:10:55.703536Z",
     "start_time": "2023-07-18T02:10:54.870314Z"
    }
   },
   "outputs": [],
   "source": [
    "# 검색창에 엔터를 쳐서 검색\n",
    "search.send_keys(Keys.ENTER)"
   ]
  },
  {
   "cell_type": "code",
   "execution_count": 9,
   "id": "423a26c5",
   "metadata": {
    "ExecuteTime": {
     "end_time": "2023-07-18T02:10:56.572452Z",
     "start_time": "2023-07-18T02:10:55.708524Z"
    }
   },
   "outputs": [],
   "source": [
    "# 화면의 스크롤을 최하단으로 이동\n",
    "# 1. 바디태그에게 명령을 줘야함\n",
    "body=driver.find_element(By.TAG_NAME,\"body\")\n",
    "body.send_keys(Keys.END)"
   ]
  },
  {
   "cell_type": "code",
   "execution_count": 10,
   "id": "fa6b3a42",
   "metadata": {
    "ExecuteTime": {
     "end_time": "2023-07-18T02:10:56.753553Z",
     "start_time": "2023-07-18T02:10:56.572452Z"
    }
   },
   "outputs": [],
   "source": [
    "# 뒤로가기 실행\n",
    "# 뒤로가기 버튼은 태그가 아니다!\n",
    "driver.back()"
   ]
  },
  {
   "cell_type": "code",
   "execution_count": 11,
   "id": "7802cc93",
   "metadata": {
    "ExecuteTime": {
     "end_time": "2023-07-18T02:10:57.007553Z",
     "start_time": "2023-07-18T02:10:56.755548Z"
    }
   },
   "outputs": [],
   "source": [
    "search=driver.find_element(By.ID,\"query\")\n",
    "search.send_keys(\"이강인\")"
   ]
  },
  {
   "cell_type": "code",
   "execution_count": 12,
   "id": "2335f204",
   "metadata": {
    "ExecuteTime": {
     "end_time": "2023-07-18T02:10:57.720005Z",
     "start_time": "2023-07-18T02:10:57.009544Z"
    }
   },
   "outputs": [],
   "source": [
    "# 검색버튼을 클릭\n",
    "btn=driver.find_element(By.CLASS_NAME,\"btn_search\")\n",
    "btn.click() # 검색창에 엔터를 쳐서 검색"
   ]
  },
  {
   "cell_type": "code",
   "execution_count": 13,
   "id": "7daafb24",
   "metadata": {
    "ExecuteTime": {
     "end_time": "2023-07-18T02:10:59.827156Z",
     "start_time": "2023-07-18T02:10:57.721004Z"
    }
   },
   "outputs": [],
   "source": [
    "# 창종료 ( 메모리까지 정리)\n",
    "driver.quit()"
   ]
  },
  {
   "cell_type": "markdown",
   "id": "9b016854",
   "metadata": {},
   "source": [
    "# 한솥 도시락 정보 수집"
   ]
  },
  {
   "cell_type": "code",
   "execution_count": 14,
   "id": "09441ff8",
   "metadata": {
    "ExecuteTime": {
     "end_time": "2023-07-18T02:13:51.855131Z",
     "start_time": "2023-07-18T02:13:49.883574Z"
    }
   },
   "outputs": [],
   "source": [
    "driver=wb.Chrome()\n",
    "driver.get(\"https://www.hsd.co.kr/menu/menu_list\")"
   ]
  },
  {
   "cell_type": "code",
   "execution_count": 18,
   "id": "5630f6ee",
   "metadata": {
    "ExecuteTime": {
     "end_time": "2023-07-18T02:18:11.915649Z",
     "start_time": "2023-07-18T02:18:11.899663Z"
    }
   },
   "outputs": [],
   "source": [
    "# 메뉴이름 수집\n",
    "menu=driver.find_elements(By.CLASS_NAME,\"h.fz_03\")"
   ]
  },
  {
   "cell_type": "code",
   "execution_count": 22,
   "id": "27fe9afe",
   "metadata": {
    "ExecuteTime": {
     "end_time": "2023-07-18T02:18:59.628320Z",
     "start_time": "2023-07-18T02:18:59.547511Z"
    }
   },
   "outputs": [
    {
     "name": "stdout",
     "output_type": "stream",
     "text": [
      "오리 영양도시락\n",
      "통살 오징어튀김\n",
      "미나리 오징어 덮밥(매운맛)\n",
      "미나리 오징어 덮밥(오리지널)\n",
      "열무 감초고추장 비빔밥\n",
      "열무 두부강된장 비빔밥\n"
     ]
    }
   ],
   "source": [
    "for i in menu:\n",
    "    print(i.text)"
   ]
  },
  {
   "cell_type": "code",
   "execution_count": 25,
   "id": "00460c08",
   "metadata": {
    "ExecuteTime": {
     "end_time": "2023-07-18T02:20:40.801175Z",
     "start_time": "2023-07-18T02:20:40.779961Z"
    }
   },
   "outputs": [],
   "source": [
    "# 가격정보 수집\n",
    "price=driver.find_elements(By.CLASS_NAME,\"item-price>strong\")"
   ]
  },
  {
   "cell_type": "code",
   "execution_count": 27,
   "id": "9c095133",
   "metadata": {
    "ExecuteTime": {
     "end_time": "2023-07-18T02:21:03.751337Z",
     "start_time": "2023-07-18T02:21:03.667789Z"
    }
   },
   "outputs": [
    {
     "name": "stdout",
     "output_type": "stream",
     "text": [
      "6,900\n",
      "2,900\n",
      "5,500\n",
      "5,500\n",
      "4,500\n",
      "4,900\n"
     ]
    }
   ],
   "source": [
    "for i in price:\n",
    "    print(i.text)"
   ]
  },
  {
   "cell_type": "code",
   "execution_count": 30,
   "id": "c35f56bc",
   "metadata": {
    "ExecuteTime": {
     "end_time": "2023-07-18T02:27:40.572814Z",
     "start_time": "2023-07-18T02:27:40.555561Z"
    }
   },
   "outputs": [],
   "source": [
    "# 가격정보 수집\n",
    "price=driver.find_elements(By.CSS_SELECTOR,\"div.item-price>strong\")"
   ]
  },
  {
   "cell_type": "code",
   "execution_count": 31,
   "id": "92cbe018",
   "metadata": {
    "ExecuteTime": {
     "end_time": "2023-07-18T02:27:54.653277Z",
     "start_time": "2023-07-18T02:27:54.563773Z"
    }
   },
   "outputs": [
    {
     "name": "stdout",
     "output_type": "stream",
     "text": [
      "6,900\n",
      "2,900\n",
      "5,500\n",
      "5,500\n",
      "4,500\n",
      "4,900\n"
     ]
    }
   ],
   "source": [
    "for i in price:\n",
    "    print(i.text)"
   ]
  },
  {
   "cell_type": "code",
   "execution_count": 33,
   "id": "de3a3ee7",
   "metadata": {
    "ExecuteTime": {
     "end_time": "2023-07-18T02:33:11.606324Z",
     "start_time": "2023-07-18T02:33:11.587506Z"
    }
   },
   "outputs": [
    {
     "data": {
      "text/plain": [
       "6"
      ]
     },
     "execution_count": 33,
     "metadata": {},
     "output_type": "execute_result"
    }
   ],
   "source": [
    "len(price)"
   ]
  },
  {
   "cell_type": "code",
   "execution_count": 42,
   "id": "b79a21d7",
   "metadata": {
    "ExecuteTime": {
     "end_time": "2023-07-18T02:37:14.391295Z",
     "start_time": "2023-07-18T02:37:14.372087Z"
    }
   },
   "outputs": [],
   "source": [
    "# 더보기 버튼을 클릭해서 모든 데이터를 조회\n",
    "btn_more=driver.find_element(By.CSS_SELECTOR,\"a.c_05\")"
   ]
  },
  {
   "cell_type": "code",
   "execution_count": 43,
   "id": "ad05e140",
   "metadata": {
    "ExecuteTime": {
     "end_time": "2023-07-18T02:37:15.762546Z",
     "start_time": "2023-07-18T02:37:15.723833Z"
    }
   },
   "outputs": [],
   "source": [
    "btn_more.click()"
   ]
  },
  {
   "cell_type": "code",
   "execution_count": 46,
   "id": "90302537",
   "metadata": {
    "ExecuteTime": {
     "end_time": "2023-07-18T02:48:48.873098Z",
     "start_time": "2023-07-18T02:48:48.860133Z"
    }
   },
   "outputs": [],
   "source": [
    "# 컴퓨터에게 시간을 부여하는 라이브러리\n",
    "import time"
   ]
  },
  {
   "cell_type": "code",
   "execution_count": 47,
   "id": "0b065543",
   "metadata": {
    "ExecuteTime": {
     "end_time": "2023-07-18T02:49:58.300437Z",
     "start_time": "2023-07-18T02:49:37.939424Z"
    }
   },
   "outputs": [
    {
     "name": "stdout",
     "output_type": "stream",
     "text": [
      "더보기가 완료되었습니다!\n"
     ]
    }
   ],
   "source": [
    "# 더보기 버튼을 클릭하는데 반복 횟수를 모르니 while 작성\n",
    "# But, 더보기 버튼이 완료가되면 코드가 오류 발생\n",
    "# How? 예외처리를 통해서 오류를 건너뛴다. \n",
    "try:\n",
    "    # 오류가 나기 전까지 실행하는 공간 \n",
    "    while True:\n",
    "        btn_more=driver.find_element(By.CSS_SELECTOR,\"a.c_05\")\n",
    "        btn_more.click()\n",
    "        time.sleep(5)\n",
    "except:\n",
    "    # 오류가 난 후 실행하는 공간 \n",
    "    print(\"더보기가 완료되었습니다!\")"
   ]
  },
  {
   "cell_type": "code",
   "execution_count": 57,
   "id": "94080e4a",
   "metadata": {
    "ExecuteTime": {
     "end_time": "2023-07-18T03:14:18.821371Z",
     "start_time": "2023-07-18T03:14:18.778809Z"
    }
   },
   "outputs": [],
   "source": [
    "menu=driver.find_elements(By.CLASS_NAME,\"h.fz_03\")\n",
    "price=driver.find_elements(By.CLASS_NAME,\"item-price>strong\")"
   ]
  },
  {
   "cell_type": "code",
   "execution_count": 58,
   "id": "9be17d7c",
   "metadata": {
    "ExecuteTime": {
     "end_time": "2023-07-18T03:14:19.350323Z",
     "start_time": "2023-07-18T03:14:19.339745Z"
    }
   },
   "outputs": [
    {
     "data": {
      "text/plain": [
       "97"
      ]
     },
     "execution_count": 58,
     "metadata": {},
     "output_type": "execute_result"
    }
   ],
   "source": [
    "len(menu)"
   ]
  },
  {
   "cell_type": "code",
   "execution_count": 59,
   "id": "72feec02",
   "metadata": {
    "ExecuteTime": {
     "end_time": "2023-07-18T03:14:19.885700Z",
     "start_time": "2023-07-18T03:14:19.875734Z"
    }
   },
   "outputs": [
    {
     "data": {
      "text/plain": [
       "97"
      ]
     },
     "execution_count": 59,
     "metadata": {},
     "output_type": "execute_result"
    }
   ],
   "source": [
    "len(price)"
   ]
  },
  {
   "cell_type": "code",
   "execution_count": 61,
   "id": "05c997e3",
   "metadata": {
    "ExecuteTime": {
     "end_time": "2023-07-18T03:14:36.820971Z",
     "start_time": "2023-07-18T03:14:34.835864Z"
    }
   },
   "outputs": [
    {
     "data": {
      "text/plain": [
       "[1,\n",
       " 2,\n",
       " 3,\n",
       " 4,\n",
       " 5,\n",
       " 6,\n",
       " 7,\n",
       " 8,\n",
       " 9,\n",
       " 10,\n",
       " 11,\n",
       " 12,\n",
       " 13,\n",
       " 14,\n",
       " 15,\n",
       " 16,\n",
       " 17,\n",
       " 18,\n",
       " 19,\n",
       " 20,\n",
       " 21,\n",
       " 22,\n",
       " 23,\n",
       " 24,\n",
       " 25,\n",
       " 26,\n",
       " 27,\n",
       " 28,\n",
       " 29,\n",
       " 30,\n",
       " 31,\n",
       " 32,\n",
       " 33,\n",
       " 34,\n",
       " 35,\n",
       " 36,\n",
       " 37,\n",
       " 38,\n",
       " 39,\n",
       " 40,\n",
       " 41,\n",
       " 42,\n",
       " 43,\n",
       " 44,\n",
       " 45,\n",
       " 46,\n",
       " 47,\n",
       " 48,\n",
       " 49,\n",
       " 50,\n",
       " 51,\n",
       " 52,\n",
       " 53,\n",
       " 54,\n",
       " 55,\n",
       " 56,\n",
       " 57,\n",
       " 58,\n",
       " 59,\n",
       " 60,\n",
       " 61,\n",
       " 62,\n",
       " 63,\n",
       " 64,\n",
       " 65,\n",
       " 66,\n",
       " 67,\n",
       " 68,\n",
       " 69,\n",
       " 70,\n",
       " 71,\n",
       " 72,\n",
       " 73,\n",
       " 74,\n",
       " 75,\n",
       " 76,\n",
       " 77,\n",
       " 78,\n",
       " 79,\n",
       " 80,\n",
       " 81,\n",
       " 82,\n",
       " 83,\n",
       " 84,\n",
       " 85,\n",
       " 86,\n",
       " 87,\n",
       " 88,\n",
       " 89,\n",
       " 90,\n",
       " 91,\n",
       " 92,\n",
       " 93,\n",
       " 94,\n",
       " 95,\n",
       " 96,\n",
       " 97]"
      ]
     },
     "metadata": {},
     "output_type": "display_data"
    },
    {
     "data": {
      "text/plain": [
       "['오리 영양도시락',\n",
       " '통살 오징어튀김',\n",
       " '미나리 오징어 덮밥(매운맛)',\n",
       " '미나리 오징어 덮밥(오리지널)',\n",
       " '열무 감초고추장 비빔밥',\n",
       " '열무 두부강된장 비빔밥',\n",
       " '해바라기',\n",
       " '매화',\n",
       " '진달래',\n",
       " '개나리',\n",
       " '돈까스도련님고기고기',\n",
       " '탕수육도련님고기고기',\n",
       " '새치 고기고기',\n",
       " '돈치 고기고기',\n",
       " '카츠카츠 도시락',\n",
       " '숯불직화구이',\n",
       " '소불고기',\n",
       " '메가치킨제육',\n",
       " '칠리 찹쌀탕수육도련님',\n",
       " '동백',\n",
       " '치킨제육',\n",
       " '돈까스도련님',\n",
       " '제육볶음',\n",
       " '돈치스팸 도시락',\n",
       " '제육 김치찌개 정식',\n",
       " '제육 김치 부대찌개 정식',\n",
       " '돈치스팸 김치 부대찌개 정식',\n",
       " '빅치킨마요 김치 부대찌개 정식',\n",
       " '치킨마요 김치 부대찌개 정식',\n",
       " '빅치킨마요 김치찌개 정식',\n",
       " '치킨마요 김치찌개 정식',\n",
       " '새후마요',\n",
       " '메가스팸마요',\n",
       " '스팸마요',\n",
       " '메가치킨마요',\n",
       " '왕치킨마요',\n",
       " '빅치킨마요',\n",
       " '치킨마요',\n",
       " '참치마요',\n",
       " '돈치마요',\n",
       " '돈까스 카레',\n",
       " '스팸 김치볶음밥',\n",
       " '김치볶음밥',\n",
       " '스팸철판볶음밥',\n",
       " '소불고기 철판볶음밥',\n",
       " '나시고랭',\n",
       " '묵은지 김치찌개',\n",
       " '김치 부대찌개',\n",
       " '숯불직화구이 덮밥',\n",
       " '마파두부 덮밥',\n",
       " '왕카레돈까스덮밥',\n",
       " '새우돈까스 덮밥',\n",
       " '돈까스 덮밥',\n",
       " '아보카도 훈제 닭가슴살 명란 비빔밥',\n",
       " '아보카도 소불고기 명란 비빔밥',\n",
       " '소불고기 감초고추장 비빔밥',\n",
       " '시골제육 두부강된장 비빔밥',\n",
       " '참치야채 감초고추장',\n",
       " '튼튼도시락',\n",
       " '반찬 묵은지김치찌개',\n",
       " '반찬 카레',\n",
       " '반찬 순살 고등어 간장구이',\n",
       " '반찬 김치 부대찌개',\n",
       " '반찬 치킨',\n",
       " '반찬 고기고기',\n",
       " '반찬 돈까스 도련님',\n",
       " '반찬 제육볶음',\n",
       " '반찬 토네이도 소세지',\n",
       " '반찬 반달돈까스',\n",
       " '치즈버터 해시 포테이토 스틱',\n",
       " '허니버터 해시 포테이토 스틱',\n",
       " '해시 포테이토 스틱',\n",
       " '뉴 감자고로케',\n",
       " '미니 찹쌀핫도그',\n",
       " '미니 찹쌀탕수육',\n",
       " '케이준후라이',\n",
       " '통현미 닭강정(소)',\n",
       " '통현미 닭강정(중)',\n",
       " '후라이드 순살(중)',\n",
       " '후라이드 순살(소)_양념치킨소스',\n",
       " '후라이드 순살(소)_케이준소스',\n",
       " '오리지널 닭강정(중)',\n",
       " '오리지널 닭강정(소)',\n",
       " '반찬 무생채',\n",
       " '3종 미니반찬B',\n",
       " '3종 미니반찬A',\n",
       " '반찬 열무김치',\n",
       " '오징어젓갈',\n",
       " '한솥 두부강된장소스',\n",
       " '한솥 감초볶음고추장소스',\n",
       " '볶음김치',\n",
       " '김치',\n",
       " '무말랭이 무침',\n",
       " '한솥밥',\n",
       " '현미밥',\n",
       " '리얼 티라미수 찰떡',\n",
       " '리얼꿀 미니호떡']"
      ]
     },
     "metadata": {},
     "output_type": "display_data"
    },
    {
     "data": {
      "text/plain": [
       "['6,900',\n",
       " '2,900',\n",
       " '5,500',\n",
       " '5,500',\n",
       " '4,500',\n",
       " '4,900',\n",
       " '10,000',\n",
       " '10,500',\n",
       " '7,800',\n",
       " '8,500',\n",
       " '6,300',\n",
       " '6,000',\n",
       " '7,000',\n",
       " '6,000',\n",
       " '4,800',\n",
       " '6,600',\n",
       " '5,500',\n",
       " '7,500',\n",
       " '4,400',\n",
       " '6,000',\n",
       " '4,900',\n",
       " '4,800',\n",
       " '4,500',\n",
       " '5,000',\n",
       " '8,600',\n",
       " '9,000',\n",
       " '9,000',\n",
       " '8,000',\n",
       " '7,400',\n",
       " '7,500',\n",
       " '6,900',\n",
       " '4,500',\n",
       " '5,800',\n",
       " '3,900',\n",
       " '6,000',\n",
       " '5,000',\n",
       " '4,300',\n",
       " '3,700',\n",
       " '3,500',\n",
       " '4,000',\n",
       " '4,700',\n",
       " '4,700',\n",
       " '3,900',\n",
       " '4,700',\n",
       " '4,900',\n",
       " '6,200',\n",
       " '4,900',\n",
       " '6,000',\n",
       " '6,000',\n",
       " '5,000',\n",
       " '6,000',\n",
       " '4,200',\n",
       " '4,100',\n",
       " '6,500',\n",
       " '6,500',\n",
       " '5,400',\n",
       " '5,200',\n",
       " '3,500',\n",
       " '5,000',\n",
       " '4,400',\n",
       " '2,900',\n",
       " '3,900',\n",
       " '4,900',\n",
       " '3,800',\n",
       " '3,600',\n",
       " '4,100',\n",
       " '3,500',\n",
       " '2,800',\n",
       " '2,900',\n",
       " '2,200',\n",
       " '2,200',\n",
       " '2,000',\n",
       " '2,700',\n",
       " '2,800',\n",
       " '2,200',\n",
       " '1,900',\n",
       " '3,500',\n",
       " '8,500',\n",
       " '7,500',\n",
       " '4,000',\n",
       " '4,000',\n",
       " '8,500',\n",
       " '3,500',\n",
       " '400',\n",
       " '1,300',\n",
       " '1,300',\n",
       " '500',\n",
       " '600',\n",
       " '1,800',\n",
       " '500',\n",
       " '500',\n",
       " '400',\n",
       " '500',\n",
       " '1,000',\n",
       " '1,700',\n",
       " '1,700',\n",
       " '2,200']"
      ]
     },
     "metadata": {},
     "output_type": "display_data"
    }
   ],
   "source": [
    "list_index=[]\n",
    "list_menu=[]\n",
    "list_price=[]\n",
    "for i in range(len(menu)):\n",
    "    list_index.append(i+1)\n",
    "    list_menu.append(menu[i].text)\n",
    "    list_price.append(price[i].text)\n",
    "display(list_index,\n",
    "       list_menu,\n",
    "       list_price)"
   ]
  },
  {
   "cell_type": "code",
   "execution_count": 62,
   "id": "10971b6b",
   "metadata": {
    "ExecuteTime": {
     "end_time": "2023-07-18T03:14:58.526714Z",
     "start_time": "2023-07-18T03:14:57.899825Z"
    }
   },
   "outputs": [],
   "source": [
    "import pandas as pd"
   ]
  },
  {
   "cell_type": "code",
   "execution_count": 70,
   "id": "0d593aa9",
   "metadata": {
    "ExecuteTime": {
     "end_time": "2023-07-18T03:33:51.182390Z",
     "start_time": "2023-07-18T03:33:51.172446Z"
    }
   },
   "outputs": [],
   "source": [
    "dic={'번호':list_index,'메뉴':list_menu,'가격':list_price}"
   ]
  },
  {
   "cell_type": "code",
   "execution_count": 71,
   "id": "beb14232",
   "metadata": {
    "ExecuteTime": {
     "end_time": "2023-07-18T03:34:02.227660Z",
     "start_time": "2023-07-18T03:34:02.211966Z"
    }
   },
   "outputs": [
    {
     "data": {
      "text/html": [
       "<div>\n",
       "<style scoped>\n",
       "    .dataframe tbody tr th:only-of-type {\n",
       "        vertical-align: middle;\n",
       "    }\n",
       "\n",
       "    .dataframe tbody tr th {\n",
       "        vertical-align: top;\n",
       "    }\n",
       "\n",
       "    .dataframe thead th {\n",
       "        text-align: right;\n",
       "    }\n",
       "</style>\n",
       "<table border=\"1\" class=\"dataframe\">\n",
       "  <thead>\n",
       "    <tr style=\"text-align: right;\">\n",
       "      <th></th>\n",
       "      <th>메뉴</th>\n",
       "      <th>가격</th>\n",
       "    </tr>\n",
       "    <tr>\n",
       "      <th>번호</th>\n",
       "      <th></th>\n",
       "      <th></th>\n",
       "    </tr>\n",
       "  </thead>\n",
       "  <tbody>\n",
       "    <tr>\n",
       "      <th>1</th>\n",
       "      <td>오리 영양도시락</td>\n",
       "      <td>6,900</td>\n",
       "    </tr>\n",
       "    <tr>\n",
       "      <th>2</th>\n",
       "      <td>통살 오징어튀김</td>\n",
       "      <td>2,900</td>\n",
       "    </tr>\n",
       "    <tr>\n",
       "      <th>3</th>\n",
       "      <td>미나리 오징어 덮밥(매운맛)</td>\n",
       "      <td>5,500</td>\n",
       "    </tr>\n",
       "    <tr>\n",
       "      <th>4</th>\n",
       "      <td>미나리 오징어 덮밥(오리지널)</td>\n",
       "      <td>5,500</td>\n",
       "    </tr>\n",
       "    <tr>\n",
       "      <th>5</th>\n",
       "      <td>열무 감초고추장 비빔밥</td>\n",
       "      <td>4,500</td>\n",
       "    </tr>\n",
       "    <tr>\n",
       "      <th>...</th>\n",
       "      <td>...</td>\n",
       "      <td>...</td>\n",
       "    </tr>\n",
       "    <tr>\n",
       "      <th>93</th>\n",
       "      <td>무말랭이 무침</td>\n",
       "      <td>500</td>\n",
       "    </tr>\n",
       "    <tr>\n",
       "      <th>94</th>\n",
       "      <td>한솥밥</td>\n",
       "      <td>1,000</td>\n",
       "    </tr>\n",
       "    <tr>\n",
       "      <th>95</th>\n",
       "      <td>현미밥</td>\n",
       "      <td>1,700</td>\n",
       "    </tr>\n",
       "    <tr>\n",
       "      <th>96</th>\n",
       "      <td>리얼 티라미수 찰떡</td>\n",
       "      <td>1,700</td>\n",
       "    </tr>\n",
       "    <tr>\n",
       "      <th>97</th>\n",
       "      <td>리얼꿀 미니호떡</td>\n",
       "      <td>2,200</td>\n",
       "    </tr>\n",
       "  </tbody>\n",
       "</table>\n",
       "<p>97 rows × 2 columns</p>\n",
       "</div>"
      ],
      "text/plain": [
       "                  메뉴     가격\n",
       "번호                         \n",
       "1           오리 영양도시락  6,900\n",
       "2           통살 오징어튀김  2,900\n",
       "3    미나리 오징어 덮밥(매운맛)  5,500\n",
       "4   미나리 오징어 덮밥(오리지널)  5,500\n",
       "5       열무 감초고추장 비빔밥  4,500\n",
       "..               ...    ...\n",
       "93           무말랭이 무침    500\n",
       "94               한솥밥  1,000\n",
       "95               현미밥  1,700\n",
       "96        리얼 티라미수 찰떡  1,700\n",
       "97          리얼꿀 미니호떡  2,200\n",
       "\n",
       "[97 rows x 2 columns]"
      ]
     },
     "execution_count": 71,
     "metadata": {},
     "output_type": "execute_result"
    }
   ],
   "source": [
    "result=pd.DataFrame(dic)\n",
    "result.set_index(\"번호\",inplace=True)\n",
    "result"
   ]
  },
  {
   "cell_type": "code",
   "execution_count": 72,
   "id": "966e01cc",
   "metadata": {
    "ExecuteTime": {
     "end_time": "2023-07-18T03:34:04.079181Z",
     "start_time": "2023-07-18T03:34:04.067225Z"
    }
   },
   "outputs": [],
   "source": [
    "result.to_csv(\"한솥메뉴.csv\",encoding=\"euc-kr\")"
   ]
  },
  {
   "cell_type": "markdown",
   "id": "ceb422e3",
   "metadata": {},
   "source": [
    "# 한셀에 합치기"
   ]
  },
  {
   "cell_type": "code",
   "execution_count": 73,
   "id": "ac8beb9b",
   "metadata": {
    "ExecuteTime": {
     "end_time": "2023-07-18T03:47:14.747312Z",
     "start_time": "2023-07-18T03:47:04.628988Z"
    }
   },
   "outputs": [
    {
     "name": "stdout",
     "output_type": "stream",
     "text": [
      "더보기가 완료되었습니다!\n"
     ]
    }
   ],
   "source": [
    "from selenium import webdriver as wb\n",
    "from selenium.webdriver.common.keys import Keys\n",
    "from selenium.webdriver.common.by import By\n",
    "import pandas as pd\n",
    "import time\n",
    "\n",
    "driver=wb.Chrome()\n",
    "driver.get(\"https://www.hsd.co.kr/menu/menu_list\")\n",
    "time.sleep(1)\n",
    "\n",
    "try:\n",
    "    while True:\n",
    "        btn_more=driver.find_element(By.CSS_SELECTOR,\"a.c_05\")\n",
    "        btn_more.click()\n",
    "        time.sleep(1)\n",
    "except:\n",
    "    print(\"더보기가 완료되었습니다!\")\n",
    "    \n",
    "menu=driver.find_elements(By.CLASS_NAME,\"h.fz_03\")\n",
    "price=driver.find_elements(By.CLASS_NAME,\"item-price>strong\")\n",
    "\n",
    "list_index=[]\n",
    "list_menu=[]\n",
    "list_price=[]\n",
    "for i in range(len(menu)):\n",
    "    list_index.append(i+1)\n",
    "    list_menu.append(menu[i].text)\n",
    "    list_price.append(price[i].text)\n",
    "    \n",
    "dic={'번호':list_index,'메뉴':list_menu,'가격':list_price}\n",
    "result=pd.DataFrame(dic)\n",
    "result.set_index(\"번호\",inplace=True)\n",
    "result.to_csv(\"한솥메뉴.csv\",encoding=\"euc-kr\")\n",
    "\n",
    "driver.quit()"
   ]
  },
  {
   "cell_type": "code",
   "execution_count": null,
   "id": "d149e360",
   "metadata": {},
   "outputs": [],
   "source": []
  }
 ],
 "metadata": {
  "kernelspec": {
   "display_name": "Python 3 (ipykernel)",
   "language": "python",
   "name": "python3"
  },
  "language_info": {
   "codemirror_mode": {
    "name": "ipython",
    "version": 3
   },
   "file_extension": ".py",
   "mimetype": "text/x-python",
   "name": "python",
   "nbconvert_exporter": "python",
   "pygments_lexer": "ipython3",
   "version": "3.9.13"
  },
  "toc": {
   "base_numbering": 1,
   "nav_menu": {},
   "number_sections": true,
   "sideBar": true,
   "skip_h1_title": false,
   "title_cell": "Table of Contents",
   "title_sidebar": "Contents",
   "toc_cell": false,
   "toc_position": {},
   "toc_section_display": true,
   "toc_window_display": false
  },
  "varInspector": {
   "cols": {
    "lenName": 16,
    "lenType": 16,
    "lenVar": 40
   },
   "kernels_config": {
    "python": {
     "delete_cmd_postfix": "",
     "delete_cmd_prefix": "del ",
     "library": "var_list.py",
     "varRefreshCmd": "print(var_dic_list())"
    },
    "r": {
     "delete_cmd_postfix": ") ",
     "delete_cmd_prefix": "rm(",
     "library": "var_list.r",
     "varRefreshCmd": "cat(var_dic_list()) "
    }
   },
   "types_to_exclude": [
    "module",
    "function",
    "builtin_function_or_method",
    "instance",
    "_Feature"
   ],
   "window_display": false
  }
 },
 "nbformat": 4,
 "nbformat_minor": 5
}
